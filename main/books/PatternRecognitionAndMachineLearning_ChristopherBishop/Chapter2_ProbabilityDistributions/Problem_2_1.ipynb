{
 "cells": [
  {
   "cell_type": "markdown",
   "id": "aad63864-138c-485c-b0ff-2b20d4b4d1c0",
   "metadata": {},
   "source": [
    "## Problem 2.1"
   ]
  },
  {
   "cell_type": "markdown",
   "id": "9353acff-db34-48bd-b4be-25cc014835f1",
   "metadata": {},
   "source": [
    "Let the Bernoulli distribution be defined as:\n",
    "$p(x|\\mu) = \\text{Bern} (x|\\mu) = \\mu^{x} (1-\\mu)^{1-x}$\n",
    "\n",
    "First we see that:\n",
    "$\\sum_{x=0}^{1} p(x|\\mu) = p(0|\\mu) + p(1|\\mu) = \\mu^{0} (1-\\mu)^{(1-0)} + \\mu^{1} (1-\\mu)^{(1-1)} = 1 - \\mu + \\mu = 1$"
   ]
  },
  {
   "cell_type": "markdown",
   "id": "89a44319-26f7-4c5e-acdd-54126f044fc2",
   "metadata": {},
   "source": [
    "Next, the expected value is:\n",
    "\n",
    "$\\mathbb{E} [X] = \\sum_{n=0}^{\\infty} x_{n} p(x_{n} | \\mu) = \\sum_{n=0}^{1} x_{n} p(x_{n} | \\mu) = $"
   ]
  },
  {
   "cell_type": "markdown",
   "id": "07c27582-6d1b-4db0-8249-d15952b0f32d",
   "metadata": {},
   "source": [
    "Finally, the variance is:\n",
    "\n",
    "$\\mathbb{V} [E] = \\mathbb{E} [X^{2}] - \\mathbb{E} [X]^{2} = \\mu - \\mu^{2} = \\mu (1-\\mu)$"
   ]
  },
  {
   "cell_type": "markdown",
   "id": "3cd97181-5ea0-42df-a1e8-126f35a15743",
   "metadata": {},
   "source": [
    "And finally the entropy $H[x]$ of the Bernoulli distribution is:\n",
    "\n",
    "$H[x] = -p(0|\\mu) \\ln p(0|\\mu) -p(1|\\mu) \\ln p(1|\\mu) = -(1-\\mu) \\ln (1-\\mu) - \\mu \\ln \\mu $"
   ]
  },
  {
   "cell_type": "code",
   "execution_count": null,
   "id": "ed761461-c58f-4215-9f97-1bc318f4b162",
   "metadata": {},
   "outputs": [],
   "source": []
  }
 ],
 "metadata": {
  "kernelspec": {
   "display_name": "Python 3 (ipykernel)",
   "language": "python",
   "name": "python3"
  },
  "language_info": {
   "codemirror_mode": {
    "name": "ipython",
    "version": 3
   },
   "file_extension": ".py",
   "mimetype": "text/x-python",
   "name": "python",
   "nbconvert_exporter": "python",
   "pygments_lexer": "ipython3",
   "version": "3.11.4"
  }
 },
 "nbformat": 4,
 "nbformat_minor": 5
}
