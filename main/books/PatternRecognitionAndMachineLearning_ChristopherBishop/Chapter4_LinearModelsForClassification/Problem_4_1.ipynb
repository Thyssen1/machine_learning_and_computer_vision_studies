{
 "cells": [
  {
   "cell_type": "markdown",
   "id": "2ec65a2e-d1ff-48b7-82eb-22aae0bc7523",
   "metadata": {},
   "source": [
    "## Problem 4.1 (**)"
   ]
  },
  {
   "cell_type": "markdown",
   "id": "23eb6d77-e9d4-434f-aae5-4102ed6367d9",
   "metadata": {},
   "source": [
    "If there exists $\\hat{\\mathbf{w}}$ and $w_{0}$ such that:\n",
    "1. $\\hat{\\mathbf{w}}^{T} \\mathbf{x}_{n} + w_{0} > 0$ (class A)\n",
    "2. $\\hat{\\mathbf{w}}^{T} \\mathbf{y}_{n} + w_{0} < 0$ (class A)\n",
    "then they are linearly separable."
   ]
  },
  {
   "cell_type": "markdown",
   "id": "61a25c65-b4ad-425b-b911-b85e82431148",
   "metadata": {},
   "source": [
    "Let $\\mathbf{x}$ and $\\mathbf{y}$ be the convex hulls such that:\n",
    "$\\mathbf{x} = \\sum{\\alpha_{n} x_{n}}$ and $\\mathbf{y} = \\sum{\\beta_{n} y_{n}}$"
   ]
  },
  {
   "cell_type": "markdown",
   "id": "3cca5e4b-93a0-46e1-95c7-89674555876b",
   "metadata": {},
   "source": [
    "First, if their convex hulls intersect there is at least one point, $\\mathbf{z}$, where:\n",
    "$z = \\sum{\\alpha_{n} x_{n}} = \\sum{\\beta_{n} y_{n}}$"
   ]
  },
  {
   "cell_type": "markdown",
   "id": "7c2a3a52-fd54-4e89-b54a-534fb2a35401",
   "metadata": {},
   "source": [
    "Then:\n",
    "\n",
    "$\\hat{\\mathbf{w}}^{T} \\mathbf{z} + w_{0} = \\hat{\\mathbf{w}}^{T} (\\sum{\\alpha_{n} x_{n}}) + w_{0} = \\sum{\\alpha_{n} (\\hat{\\mathbf{w}}^{T} x_{n} + w_{0}})$\n",
    "\n",
    "$\\hat{\\mathbf{w}}^{T} \\mathbf{z} + w_{0} = \\hat{\\mathbf{w}}^{T} (\\sum{\\beta_{n} y_{n}}) + w_{0} = \\sum{\\beta_{n} (\\hat{\\mathbf{w}}^{T} y_{n} + w_{0}})$\n",
    "\n",
    "where we have used the fact that $\\sum{\\alpha_{n}} = 1$ and $\\sum{\\beta_{n}} = 1$.\n",
    "But this gives rise to a contradiction since this would imply that $\\hat{\\mathbf{w}}^{T} \\mathbf{z} + w_{0} > 0$ and $\\hat{\\mathbf{w}}^{T} \\mathbf{z} + w_{0} < 0$. Therefore, the two sets of points cannot be linearly separable. "
   ]
  },
  {
   "cell_type": "markdown",
   "id": "4c1f1a29-9b61-48d8-8b98-a16af4f999d5",
   "metadata": {},
   "source": [
    "Similarly, if they are linearly separable the convex hulls cannot intersect.\n",
    "If we assume that they are linearly separable, then there is no point $\\mathbf{z}$ which can exist since we would arrive at a contradiction similar to above.\n"
   ]
  },
  {
   "cell_type": "code",
   "execution_count": null,
   "id": "5471e407-afdd-4e09-be7f-f54c364a7841",
   "metadata": {},
   "outputs": [],
   "source": []
  }
 ],
 "metadata": {
  "kernelspec": {
   "display_name": "Python 3 (ipykernel)",
   "language": "python",
   "name": "python3"
  },
  "language_info": {
   "codemirror_mode": {
    "name": "ipython",
    "version": 3
   },
   "file_extension": ".py",
   "mimetype": "text/x-python",
   "name": "python",
   "nbconvert_exporter": "python",
   "pygments_lexer": "ipython3",
   "version": "3.11.4"
  }
 },
 "nbformat": 4,
 "nbformat_minor": 5
}
