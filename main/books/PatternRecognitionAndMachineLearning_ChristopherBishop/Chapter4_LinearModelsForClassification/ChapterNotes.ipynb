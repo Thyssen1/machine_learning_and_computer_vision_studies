{
 "cells": [
  {
   "cell_type": "markdown",
   "id": "15df5257-f954-4fb8-8198-628f4e1ef899",
   "metadata": {},
   "source": [
    "## Linear models for classification notes"
   ]
  },
  {
   "cell_type": "markdown",
   "id": "2139dff1-7021-45cf-a357-537cb4454d85",
   "metadata": {},
   "source": [
    "### 4.1.3 Least squares for classification"
   ]
  },
  {
   "cell_type": "markdown",
   "id": "44973ada-6a85-4fad-a11c-ce692616a726",
   "metadata": {},
   "source": [
    "The author does not explain all the steps going from equation (4.15) to (4.16) which is what I will do here.\n",
    "\n",
    "First, we use the fact that $(A+B)^{T} = A^{T} + B^{T}$, $(AB)^{T} = B^{T} A^{T}$, and the laws of matrix multiplication to expand the expression inside the trace of the sum of squares error function:\n",
    "\n",
    "$((\\tilde{X} \\tilde{W})^{T} - T^{T})^{T} ((\\tilde{X} \\tilde{W})^{T} - T^{T}) \n",
    "= \\tilde{W}^{T} \\tilde{X}^{T} \\tilde{X}^{T} \\tilde{W}^{T} - \\tilde{W}^{T} \\tilde{X}^{T} T - T^{T} \\tilde{X} \\tilde{W} + T^{T} T$"
   ]
  },
  {
   "cell_type": "markdown",
   "id": "f9c4d65d-f506-4431-8bb2-15bef59851b5",
   "metadata": {},
   "source": [
    "Furthermore, we can then simplify equation (4.15), $E_{D} (\\hat{W})$, even more by considering that $Tr(A) = Tr(A^{T})$ and $(ABC)^{T} = C^{T} B^{T} A^{T}$ and $Tr(A) = Tr(A^{T})$. Lastly, we will rearrange the expression which is allowed by $Tr(ABC) = Tr(BCA) = Tr(CAB)$:\n",
    "\n",
    "$\\frac{1}{2} Tr \\{ \\tilde{W}^{T} X^{T} X \\tilde{W} \\} +  \\frac{1}{2} Tr \\{ 2 \\tilde{W}^{T} \\tilde{X}^{T} T \\} + \\frac{1}{2} Tr \\{ T^{T} T \\}$"
   ]
  },
  {
   "cell_type": "markdown",
   "id": "d75d3b8f-c6d2-49ae-aca7-feb8c7b0f46d",
   "metadata": {},
   "source": [
    "Then, using the fact from the Matrix Cookbook (Petersen, K. B., & Pedersen, M. S. (2008). The matrix cookbook. Technical University of Denmark, 7(15), 510.), that:\n",
    "\n",
    "$\\frac{\\partial}{\\partial X} Tr [X^{T} B X] = BX + B^{T} X$\n",
    "and\n",
    "$\\frac{\\partial}{\\partial x} Tr [ X^{T} A ] = A$\n",
    "\n",
    "and that $(AB)^{T} = B^{T} A^{T}$ we get:\n",
    "\n",
    "$\\frac{ \\partial E_{D} (\\tilde{W}) }{ \\partial \\tilde{W} } = \\frac{1}{2} (2 X^{T} X \\tilde{W}) - \\tilde{X}^{T} T = 0$\n",
    "\n",
    "which finally leads to the result in (4.16)."
   ]
  }
 ],
 "metadata": {
  "kernelspec": {
   "display_name": "Python 3 (ipykernel)",
   "language": "python",
   "name": "python3"
  },
  "language_info": {
   "codemirror_mode": {
    "name": "ipython",
    "version": 3
   },
   "file_extension": ".py",
   "mimetype": "text/x-python",
   "name": "python",
   "nbconvert_exporter": "python",
   "pygments_lexer": "ipython3",
   "version": "3.11.4"
  }
 },
 "nbformat": 4,
 "nbformat_minor": 5
}
