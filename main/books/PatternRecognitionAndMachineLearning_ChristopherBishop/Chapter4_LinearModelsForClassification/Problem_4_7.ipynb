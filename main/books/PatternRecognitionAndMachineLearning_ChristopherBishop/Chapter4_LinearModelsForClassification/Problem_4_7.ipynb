{
 "cells": [
  {
   "cell_type": "markdown",
   "id": "6b944b05-5569-4afc-b687-6ea3f404037a",
   "metadata": {},
   "source": [
    "## Problem 4.7 (*)"
   ]
  },
  {
   "cell_type": "markdown",
   "id": "11e073db-1812-45d8-8850-57150c3a4784",
   "metadata": {},
   "source": [
    "First, we prove that $\\sigma(-a) = 1 - \\sigma(a)$. \n",
    "\n",
    "$\\sigma(-a) = \\frac{1}{1 + e^{a}}$\n",
    "\n",
    "$1 - \\sigma(a) = 1 - \\frac{1}{1 + e^{-a}} = \\frac{e^{-a}}{1 + e^{-a}} = \\frac{1}{1 + e^{a}}$"
   ]
  },
  {
   "cell_type": "markdown",
   "id": "bd0d6c9b-93d4-4694-89ce-fbfe3ea28e94",
   "metadata": {},
   "source": [
    "Secondly, we prove that $\\sigma^{-1} (a) = \\ln{\\frac{a}{1-a}}$ is the inverse function of $\\sigma(a)$.\n",
    "Recall that an inverse function satisfies $f(f^{-1}(x)) = x = f^{-1} (f(x))$.\n",
    "\n",
    "$\\sigma^{-1} (\\sigma(a)) = \\ln \\frac{\\frac{1}{1+e^{-a}}}{1 - \\frac{1}{1+e^{-a}}} = \\ln e^{a} = a$\n",
    "\n",
    "$\\sigma (\\sigma^{-1}(a)) = \\frac{1}{1 + e^{-\\ln \\frac{a}{1-a}}} = \\frac{1}{1 + \\frac{1-a}{a}} = \\frac{1}{\\frac{1}{a}} = a$"
   ]
  }
 ],
 "metadata": {
  "kernelspec": {
   "display_name": "Python 3 (ipykernel)",
   "language": "python",
   "name": "python3"
  },
  "language_info": {
   "codemirror_mode": {
    "name": "ipython",
    "version": 3
   },
   "file_extension": ".py",
   "mimetype": "text/x-python",
   "name": "python",
   "nbconvert_exporter": "python",
   "pygments_lexer": "ipython3",
   "version": "3.11.4"
  }
 },
 "nbformat": 4,
 "nbformat_minor": 5
}
