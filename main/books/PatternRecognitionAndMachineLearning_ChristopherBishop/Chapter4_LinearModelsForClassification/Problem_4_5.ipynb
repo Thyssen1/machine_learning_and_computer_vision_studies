{
 "cells": [
  {
   "cell_type": "markdown",
   "id": "4c50d881-76c5-4cbc-8f05-e957919eae17",
   "metadata": {},
   "source": [
    "## Problem 4.5"
   ]
  },
  {
   "cell_type": "markdown",
   "id": "0238cdec-011e-4ea8-8222-8355e6fa5d79",
   "metadata": {},
   "source": [
    "We want to show that (4.25) can be written as (4.26).\n",
    "Starting with the former we will break down the problem into subproblems by reducing the numerator and denominator:\n",
    "\n",
    "$J(\\mathbf{w}) = \\frac{(m_{2} - m_{1})^{2}}{s_{1}^{2} + s_{2}^{2}}  $"
   ]
  },
  {
   "cell_type": "markdown",
   "id": "2c5d82f8-10fb-4bf1-b8a1-61d40f131848",
   "metadata": {},
   "source": [
    "First, consider the numerator which can be rewritten as:\n",
    "\n",
    "$(m_{2} - m_{1}) = \\mathbf{w}^{T} (\\mathbf{m}_{2} - \\mathbf{m}_{1})$\n",
    "\n",
    "$(m_{2} - m_{1})^{T} = (\\mathbf{m}_{2} - \\mathbf{m}_{1})^{T} \\mathbf{w}$\n",
    "\n",
    "$(m_{2} - m_{1})^{2} = \\mathbf{w}^{T} (\\mathbf{m}_{2} - \\mathbf{m}_{1}) (\\mathbf{m}_{2} - \\mathbf{m}_{1})^{T} \\mathbf{w} = \\mathbf{w}^{T} S_{B} \\mathbf{w}$"
   ]
  },
  {
   "cell_type": "markdown",
   "id": "22e74f13-6c8a-4d5a-ab18-ee3ecb3b4695",
   "metadata": {},
   "source": [
    "Secondly, consider the denominator:\n",
    "\n",
    "$s_{1}^{2} + s_{2}^{2} = \\sum_{n \\in \\mathcal{C}_{1}} (y_{n} - m_{1})^{2} + \\sum_{n \\in \\mathcal{C}_{2}} (y_{n} - m_{2})^{2} =  $"
   ]
  },
  {
   "cell_type": "markdown",
   "id": "825b1e41-1e54-4778-9411-cb3db153237b",
   "metadata": {},
   "source": []
  }
 ],
 "metadata": {
  "kernelspec": {
   "display_name": "Python 3 (ipykernel)",
   "language": "python",
   "name": "python3"
  },
  "language_info": {
   "codemirror_mode": {
    "name": "ipython",
    "version": 3
   },
   "file_extension": ".py",
   "mimetype": "text/x-python",
   "name": "python",
   "nbconvert_exporter": "python",
   "pygments_lexer": "ipython3",
   "version": "3.11.4"
  }
 },
 "nbformat": 4,
 "nbformat_minor": 5
}
