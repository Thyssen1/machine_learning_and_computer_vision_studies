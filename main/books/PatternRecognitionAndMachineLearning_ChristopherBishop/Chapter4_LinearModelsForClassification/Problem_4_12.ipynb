{
 "cells": [
  {
   "cell_type": "markdown",
   "id": "c9693640-3145-49cc-8529-cf2d52adaef4",
   "metadata": {},
   "source": [
    "## Problem 4.12 (*)"
   ]
  },
  {
   "cell_type": "markdown",
   "id": "a7c99915-ae5a-4c5b-be71-fc11e9a47149",
   "metadata": {},
   "source": [
    "The sigmoid function is defined as:\n",
    "$\\sigma(a) = \\frac{1}{1 + e^{-a}}$"
   ]
  },
  {
   "cell_type": "markdown",
   "id": "63887578-a7e9-4e4d-a151-fae93e63ad17",
   "metadata": {},
   "source": [
    "The derivative of $\\sigma(a)$ with respect to $a$ can be calculated by considering the quotient for derivative:\n",
    "\n",
    "$\\frac{d \\sigma}{da} = \\frac{\\frac{d}{da} [1] (1+e^{-a}) - 1 \\cdot \\frac{d}{da} [1 + e^{-a}]}{(1+e^{-a})^{2}} = \\frac{e^{-a}}{(1+e^{-a})^{2}}$"
   ]
  },
  {
   "cell_type": "markdown",
   "id": "792307fb-cfcf-4638-afe7-6f603c62a875",
   "metadata": {},
   "source": [
    "Next, we will show that $\\sigma (1-\\sigma)$ evaluates to the expression above:\n",
    "\n",
    "$\\sigma (1-\\sigma) = \\frac{1}{1 + e^{-a}} (1 - \\frac{1}{1 + e^{-a}}) = \\frac{1}{1+e^{-a}} \\frac{e^{-a}}{1 + e^{-a}} = \\frac{e^{-a}}{(1+e^{-a})^{2}}$\n",
    "\n",
    "Thus, the two expressions are equal."
   ]
  },
  {
   "cell_type": "code",
   "execution_count": null,
   "id": "c4b93e6b-2e99-44e6-bdfb-9c3be7cfd3f5",
   "metadata": {},
   "outputs": [],
   "source": []
  }
 ],
 "metadata": {
  "kernelspec": {
   "display_name": "Python 3 (ipykernel)",
   "language": "python",
   "name": "python3"
  },
  "language_info": {
   "codemirror_mode": {
    "name": "ipython",
    "version": 3
   },
   "file_extension": ".py",
   "mimetype": "text/x-python",
   "name": "python",
   "nbconvert_exporter": "python",
   "pygments_lexer": "ipython3",
   "version": "3.11.4"
  }
 },
 "nbformat": 4,
 "nbformat_minor": 5
}
