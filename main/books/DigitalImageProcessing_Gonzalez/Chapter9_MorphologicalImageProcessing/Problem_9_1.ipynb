{
 "cells": [
  {
   "cell_type": "markdown",
   "id": "b3949b5e-bdab-4f6f-85a2-6a82e6ffb660",
   "metadata": {},
   "source": [
    "## Problem 9.1"
   ]
  },
  {
   "cell_type": "markdown",
   "id": "9f91ed90-fa85-4c7a-97fa-46345787edb3",
   "metadata": {},
   "source": [
    "### Setup"
   ]
  },
  {
   "cell_type": "code",
   "execution_count": 1,
   "id": "ef5e2171-5240-46f4-8ddc-5881db66defd",
   "metadata": {},
   "outputs": [
    {
     "name": "stdout",
     "output_type": "stream",
     "text": [
      "Requirement already satisfied: matplotlib in c:\\users\\chris\\pycharmprojects\\computer_vision_and_machine_learning_studies\\lib\\site-packages (3.9.2)\n",
      "Requirement already satisfied: contourpy>=1.0.1 in c:\\users\\chris\\pycharmprojects\\computer_vision_and_machine_learning_studies\\lib\\site-packages (from matplotlib) (1.3.0)\n",
      "Requirement already satisfied: cycler>=0.10 in c:\\users\\chris\\pycharmprojects\\computer_vision_and_machine_learning_studies\\lib\\site-packages (from matplotlib) (0.12.1)\n",
      "Requirement already satisfied: fonttools>=4.22.0 in c:\\users\\chris\\pycharmprojects\\computer_vision_and_machine_learning_studies\\lib\\site-packages (from matplotlib) (4.54.1)\n",
      "Requirement already satisfied: kiwisolver>=1.3.1 in c:\\users\\chris\\pycharmprojects\\computer_vision_and_machine_learning_studies\\lib\\site-packages (from matplotlib) (1.4.7)\n",
      "Requirement already satisfied: numpy>=1.23 in c:\\users\\chris\\pycharmprojects\\computer_vision_and_machine_learning_studies\\lib\\site-packages (from matplotlib) (2.1.2)\n",
      "Requirement already satisfied: packaging>=20.0 in c:\\users\\chris\\pycharmprojects\\computer_vision_and_machine_learning_studies\\lib\\site-packages (from matplotlib) (24.1)\n",
      "Requirement already satisfied: pillow>=8 in c:\\users\\chris\\pycharmprojects\\computer_vision_and_machine_learning_studies\\lib\\site-packages (from matplotlib) (11.0.0)\n",
      "Requirement already satisfied: pyparsing>=2.3.1 in c:\\users\\chris\\pycharmprojects\\computer_vision_and_machine_learning_studies\\lib\\site-packages (from matplotlib) (3.2.0)\n",
      "Requirement already satisfied: python-dateutil>=2.7 in c:\\users\\chris\\pycharmprojects\\computer_vision_and_machine_learning_studies\\lib\\site-packages (from matplotlib) (2.9.0.post0)\n",
      "Requirement already satisfied: six>=1.5 in c:\\users\\chris\\pycharmprojects\\computer_vision_and_machine_learning_studies\\lib\\site-packages (from python-dateutil>=2.7->matplotlib) (1.16.0)\n"
     ]
    },
    {
     "name": "stderr",
     "output_type": "stream",
     "text": [
      "\n",
      "[notice] A new release of pip is available: 23.2.1 -> 24.2\n",
      "[notice] To update, run: python.exe -m pip install --upgrade pip\n"
     ]
    },
    {
     "name": "stdout",
     "output_type": "stream",
     "text": [
      "Requirement already satisfied: numpy in c:\\users\\chris\\pycharmprojects\\computer_vision_and_machine_learning_studies\\lib\\site-packages (2.1.2)\n"
     ]
    },
    {
     "name": "stderr",
     "output_type": "stream",
     "text": [
      "\n",
      "[notice] A new release of pip is available: 23.2.1 -> 24.2\n",
      "[notice] To update, run: python.exe -m pip install --upgrade pip\n"
     ]
    }
   ],
   "source": [
    "!pip install matplotlib\n",
    "!pip install numpy\n",
    "\n",
    "import matplotlib.pyplot as plt\n",
    "import numpy as np\n",
    "\n",
    "# Function to visualize a structuring element\n",
    "def plot_structuring_element(element, ax, title):\n",
    "    # Define the colors for each type of element\n",
    "    colors = {0: 'white', 1: 'black', 2: 'black'}  # 0 -> white, 1 -> black, 2 -> black with a dot\n",
    "\n",
    "    # Set up the grid\n",
    "    for i in range(3):\n",
    "        for j in range(3):\n",
    "            value = element[i, j]\n",
    "            rect = plt.Rectangle((j, 3-i-1), 1, 1, facecolor=colors[value], edgecolor='black')\n",
    "            ax.add_patch(rect)\n",
    "\n",
    "            # Add a dot in the middle if the value is 2\n",
    "            if value == 2:\n",
    "                ax.plot(j + 0.5, 3-i-1 + 0.5, 'wo', markersize=10)\n",
    "\n",
    "    # Set grid limits and hide the axes\n",
    "    ax.set_xlim(0, 3)\n",
    "    ax.set_ylim(0, 3)\n",
    "    ax.set_xticks(np.arange(0, 3, 1))\n",
    "    ax.set_yticks(np.arange(0, 3, 1))\n",
    "    ax.set_xticklabels([])\n",
    "    ax.set_yticklabels([])\n",
    "    ax.grid(True)\n",
    "    ax.set_aspect('equal')\n",
    "    ax.set_title(title, fontsize=8)"
   ]
  },
  {
   "cell_type": "markdown",
   "id": "dc68a95a-0138-434c-b7cb-e31a72ba22f7",
   "metadata": {},
   "source": [
    "### Problem 9.1 (a)*"
   ]
  },
  {
   "cell_type": "code",
   "execution_count": 2,
   "id": "b8b28ec6-b4ca-46a5-be5e-ea76dd642450",
   "metadata": {},
   "outputs": [
    {
     "data": {
      "image/png": "[encoded data removed]",
      "text/plain": [
       "<Figure size 400x200 with 2 Axes>"
      ]
     },
     "metadata": {},
     "output_type": "display_data"
    }
   ],
   "source": [
    "# Define the original structuring element\n",
    "structuring_element = np.array([[0, 0, 0], [2, 0, 1], [0, 1, 0]])\n",
    "\n",
    "# Compute the reflection by flipping both axes\n",
    "reflected_element = np.flip(structuring_element)\n",
    "\n",
    "# Create a figure and axes for both original and reflected structuring elements\n",
    "fig, axes = plt.subplots(1, 2, figsize=(4, 2))\n",
    "\n",
    "# Plot the original structuring element\n",
    "plot_structuring_element(structuring_element, axes[0], 'Original Structuring Element')\n",
    "\n",
    "# Plot the reflected structuring element\n",
    "plot_structuring_element(reflected_element, axes[1], 'Reflected Structuring Element')\n",
    "\n",
    "# Display the plots\n",
    "plt.tight_layout()\n",
    "plt.show()"
   ]
  },
  {
   "cell_type": "markdown",
   "id": "18753b2d-0d38-4a4d-96d1-c2c987448a1e",
   "metadata": {},
   "source": [
    "### Problem 9.1 (b)"
   ]
  },
  {
   "cell_type": "code",
   "execution_count": 3,
   "id": "249f575b-fc45-4c68-b76b-719bd9a548fb",
   "metadata": {},
   "outputs": [
    {
     "data": {
      "image/png": "[encoded data removed]",
      "text/plain": [
       "<Figure size 400x200 with 2 Axes>"
      ]
     },
     "metadata": {},
     "output_type": "display_data"
    }
   ],
   "source": [
    "# Define the original structuring element\n",
    "structuring_element = np.array([[2, 0, 1], [0, 1, 0], [0, 0, 1]])\n",
    "\n",
    "# Compute the reflection by flipping both axes\n",
    "reflected_element = np.flip(structuring_element)\n",
    "\n",
    "# Create a figure and axes for both original and reflected structuring elements\n",
    "fig, axes = plt.subplots(1, 2, figsize=(4, 2))\n",
    "\n",
    "# Plot the original structuring element\n",
    "plot_structuring_element(structuring_element, axes[0], 'Original Structuring Element')\n",
    "\n",
    "# Plot the reflected structuring element\n",
    "plot_structuring_element(reflected_element, axes[1], 'Reflected Structuring Element')\n",
    "\n",
    "# Display the plots\n",
    "plt.tight_layout()\n",
    "plt.show()"
   ]
  },
  {
   "cell_type": "markdown",
   "id": "93db0930-0b4c-4294-8080-e79e1df6433e",
   "metadata": {},
   "source": [
    "### Problem 9.1 (c)"
   ]
  },
  {
   "cell_type": "code",
   "execution_count": 4,
   "id": "68f5bf3c-2ee1-4376-ae36-2fe384833906",
   "metadata": {},
   "outputs": [
    {
     "data": {
      "image/png": "[encoded data removed]",
      "text/plain": [
       "<Figure size 400x200 with 2 Axes>"
      ]
     },
     "metadata": {},
     "output_type": "display_data"
    }
   ],
   "source": [
    "# Define the original structuring element\n",
    "structuring_element = np.array([[0, 0, 1], [0, 2, 1], [0, 0, 1]])\n",
    "\n",
    "# Compute the reflection by flipping both axes\n",
    "reflected_element = np.flip(structuring_element)\n",
    "\n",
    "# Create a figure and axes for both original and reflected structuring elements\n",
    "fig, axes = plt.subplots(1, 2, figsize=(4, 2))\n",
    "\n",
    "# Plot the original structuring element\n",
    "plot_structuring_element(structuring_element, axes[0], 'Original Structuring Element')\n",
    "\n",
    "# Plot the reflected structuring element\n",
    "plot_structuring_element(reflected_element, axes[1], 'Reflected Structuring Element')\n",
    "\n",
    "# Display the plots\n",
    "plt.tight_layout()\n",
    "plt.show()"
   ]
  },
  {
   "cell_type": "code",
   "execution_count": null,
   "id": "fa3c45fb-1863-4bdf-b0f4-8049df5324cb",
   "metadata": {},
   "outputs": [],
   "source": []
  }
 ],
 "metadata": {
  "kernelspec": {
   "display_name": "Python 3 (ipykernel)",
   "language": "python",
   "name": "python3"
  },
  "language_info": {
   "codemirror_mode": {
    "name": "ipython",
    "version": 3
   },
   "file_extension": ".py",
   "mimetype": "text/x-python",
   "name": "python",
   "nbconvert_exporter": "python",
   "pygments_lexer": "ipython3",
   "version": "3.11.4"
  }
 },
 "nbformat": 4,
 "nbformat_minor": 5
}
