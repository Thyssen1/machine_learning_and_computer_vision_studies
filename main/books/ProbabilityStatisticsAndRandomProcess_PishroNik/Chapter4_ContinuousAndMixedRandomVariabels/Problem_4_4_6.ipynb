{
 "cells": [
  {
   "cell_type": "markdown",
   "id": "5f3ae7d8-8c5a-414f-af88-e2fb2167a9d2",
   "metadata": {},
   "source": [
    "## Problem 4.4.6"
   ]
  },
  {
   "cell_type": "markdown",
   "id": "b2b3fa14-6351-4de7-9b6b-f3f903e9d2a4",
   "metadata": {},
   "source": [
    "$F_{X} (y) = P(Y \\leq y) = P(aX \\leq y) = P(X \\geq \\frac{y}{a}) = e^{\\frac{\\lambda}{a} y} = F_{Y} (y)$\n",
    "\n",
    "where we clearly see that $Y \\sim \\text{Exponential} (\\frac{\\lambda}{a})$"
   ]
  },
  {
   "cell_type": "markdown",
   "id": "d1c1db4d-1b73-403e-bf6b-931bcbc51e82",
   "metadata": {},
   "source": []
  }
 ],
 "metadata": {
  "kernelspec": {
   "display_name": "Python 3 (ipykernel)",
   "language": "python",
   "name": "python3"
  },
  "language_info": {
   "codemirror_mode": {
    "name": "ipython",
    "version": 3
   },
   "file_extension": ".py",
   "mimetype": "text/x-python",
   "name": "python",
   "nbconvert_exporter": "python",
   "pygments_lexer": "ipython3",
   "version": "3.11.4"
  }
 },
 "nbformat": 4,
 "nbformat_minor": 5
}
