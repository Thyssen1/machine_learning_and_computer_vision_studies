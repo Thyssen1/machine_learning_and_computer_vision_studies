{
 "cells": [
  {
   "cell_type": "markdown",
   "id": "af8f6440-6361-48c3-b118-b21be2ae0ed4",
   "metadata": {},
   "source": [
    "## Problem 4.4.1"
   ]
  },
  {
   "cell_type": "markdown",
   "id": "ff9dbee4-2c5e-4ce1-a112-e11c7be75769",
   "metadata": {},
   "source": [
    "a) The CDF of the uniform for $a=2$ and $b=6$ is:\n",
    "\n",
    "$F_{X} (x) = \\frac{x - a}{b - a} = \\frac{x - 2}{4}$\n",
    "\n",
    "$F_{X} (2) = 0, F_{X} (6) = \\frac{4}{4} = 1$\n",
    "\n",
    "which is to be expected."
   ]
  },
  {
   "cell_type": "markdown",
   "id": "e61df14f-10a7-427e-be12-8a2e5234ca97",
   "metadata": {},
   "source": [
    "b) The expected value is $\\mathbb{E} [X] = \\frac{b + a}{2} = \\frac{6+2}{2} = \\frac{8}{2} = 4$"
   ]
  },
  {
   "cell_type": "markdown",
   "id": "3de1ab70-1db9-4a90-ada5-ce6ad7824b5a",
   "metadata": {},
   "source": []
  }
 ],
 "metadata": {
  "kernelspec": {
   "display_name": "Python 3 (ipykernel)",
   "language": "python",
   "name": "python3"
  },
  "language_info": {
   "codemirror_mode": {
    "name": "ipython",
    "version": 3
   },
   "file_extension": ".py",
   "mimetype": "text/x-python",
   "name": "python",
   "nbconvert_exporter": "python",
   "pygments_lexer": "ipython3",
   "version": "3.11.4"
  }
 },
 "nbformat": 4,
 "nbformat_minor": 5
}
