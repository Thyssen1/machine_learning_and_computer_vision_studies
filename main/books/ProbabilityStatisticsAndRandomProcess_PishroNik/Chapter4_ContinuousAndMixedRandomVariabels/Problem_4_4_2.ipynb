{
 "cells": [
  {
   "cell_type": "markdown",
   "id": "f616b361-d6c3-445b-9800-14b5dc0b4728",
   "metadata": {},
   "source": [
    "## Problem 4.4.2"
   ]
  },
  {
   "cell_type": "code",
   "execution_count": 1,
   "id": "b72c0dcf-d6b9-4fd0-a8e5-895ecb9dd759",
   "metadata": {},
   "outputs": [
    {
     "name": "stdout",
     "output_type": "stream",
     "text": [
      "Requirement already satisfied: sympy in c:\\users\\chris\\pycharmprojects\\machine_learning_and_computer_vision_studies\\.venv\\lib\\site-packages (1.13.3)\n",
      "Requirement already satisfied: mpmath<1.4,>=1.1.0 in c:\\users\\chris\\pycharmprojects\\machine_learning_and_computer_vision_studies\\.venv\\lib\\site-packages (from sympy) (1.3.0)\n"
     ]
    },
    {
     "name": "stderr",
     "output_type": "stream",
     "text": [
      "\n",
      "[notice] A new release of pip is available: 23.2.1 -> 24.3.1\n",
      "[notice] To update, run: python.exe -m pip install --upgrade pip\n"
     ]
    }
   ],
   "source": [
    "!pip install sympy\n",
    "import sympy as sp"
   ]
  },
  {
   "cell_type": "markdown",
   "id": "4e5f2eac-1aaa-4633-872b-49dfd91725e9",
   "metadata": {},
   "source": [
    "a) c is the constant which ensures that $f_{X} (x)$ is a valid probability distribution:\n",
    "\n",
    "$\\int_{0}^{\\infty} c e^{-4x} dx = [ -\\frac{c}{4} e^{-4x} ]_{0}^{\\infty} = \\frac{c}{4} = 1 \\implies c = 4$"
   ]
  },
  {
   "cell_type": "markdown",
   "id": "c33738bd-9734-43ce-8a49-eab7e593dd5c",
   "metadata": {},
   "source": [
    "We can check the result by integrating:"
   ]
  },
  {
   "cell_type": "code",
   "execution_count": 2,
   "id": "b4441aeb-9e32-45fd-9077-e84e8e75582c",
   "metadata": {},
   "outputs": [
    {
     "name": "stdout",
     "output_type": "stream",
     "text": [
      "Integral from 0 to infinity: 1\n"
     ]
    }
   ],
   "source": [
    "# Define the variable\n",
    "x = sp.symbols('x')\n",
    "\n",
    "# Define the function 4 * exp(-4 * x)\n",
    "f1 = 4 * sp.exp(-4 * x)\n",
    "\n",
    "# Integrate over the range 0 to infinity\n",
    "integral_2 = sp.integrate(f1, (x, 0, sp.oo))\n",
    "print(\"Integral from 0 to infinity:\", integral_2)\n"
   ]
  },
  {
   "cell_type": "markdown",
   "id": "d98554aa-0433-4e51-92a8-e06b25263ad0",
   "metadata": {},
   "source": [
    "b)\n",
    "The CDF $F_{X} (x)$ can be found by integration from $[0, x]$:\n",
    "\n",
    "$F_{X} (x) = \\int_{0}^{x} 4 e^{-4t} dt = 1 - e^{-4x}$\n",
    "\n",
    "Double checking the result:"
   ]
  },
  {
   "cell_type": "code",
   "execution_count": 3,
   "id": "0c3aac58-172a-419d-a79c-e7d35881ef7e",
   "metadata": {},
   "outputs": [
    {
     "name": "stdout",
     "output_type": "stream",
     "text": [
      "Integral from 0 to x: 1 - exp(-4*x)\n"
     ]
    }
   ],
   "source": [
    "# Define the variables\n",
    "t, x = sp.symbols('t x')\n",
    "\n",
    "# Define the function 4 * exp(-4 * t)\n",
    "f = 4 * sp.exp(-4 * t)\n",
    "\n",
    "# Integrate from 0 to x\n",
    "integral_variable_limit = sp.integrate(f, (t, 0, x))\n",
    "print(\"Integral from 0 to x:\", integral_variable_limit)"
   ]
  },
  {
   "cell_type": "markdown",
   "id": "17487449-9b6f-421d-adb2-9558e8234998",
   "metadata": {},
   "source": [
    "c) The probability that X is within ]2,5[ can be found by:\n",
    "\n",
    "$P(2 < X < 5) = F(5) - F(2) = e^{-8} - e^{-20}$\n",
    "\n",
    "and we check our result:"
   ]
  },
  {
   "cell_type": "code",
   "execution_count": 4,
   "id": "a3cb89ac-80de-45e0-8f93-cd5622eef874",
   "metadata": {},
   "outputs": [
    {
     "name": "stdout",
     "output_type": "stream",
     "text": [
      "Integral from 2 to 5: -exp(-20) + exp(-8)\n",
      "Integral from 2 to 5: 0.000335460566748889\n"
     ]
    }
   ],
   "source": [
    "# Integrate over the range 2 to 5\n",
    "integral_1 = sp.integrate(f1, (x, 2, 5))\n",
    "print(\"Integral from 2 to 5:\", integral_1)\n",
    "print(\"Integral from 2 to 5:\", integral_1.evalf())"
   ]
  },
  {
   "cell_type": "markdown",
   "id": "473a827e-e161-4536-b3f8-d0ff981759ae",
   "metadata": {},
   "source": [
    "d) The expectation of $X$ is $\\mathbb{E} [X]$:\n",
    "\n",
    "$\\mathbb{E} [X] = \\int_{0}^{\\infty} x f_{X} (x) dx = \\int_{0}^{\\infty} 4xe^{-4x} dx$\n",
    "\n",
    "which can be found by using the formula:\n",
    "\n",
    "$\\int x e^{ax} dx = e^{ax} ( \\frac{ax-1}{a^{2}} )$\n",
    "\n",
    "and thus:\n",
    "\n",
    "$\\mathbb{E} [X] = [e^{-4x} (\\frac{-4x-1}{16})]_{0}^{\\infty} = 4 e^{-4 \\cdot 0} \\frac{4 \\cdot 0 + 1}{16} = \\frac{1}{4}$\n",
    "\n",
    "Lastly, we check the answer:"
   ]
  },
  {
   "cell_type": "code",
   "execution_count": 5,
   "id": "01d4fa59-4bf0-4bbe-a08c-c338b68d6c97",
   "metadata": {},
   "outputs": [
    {
     "name": "stdout",
     "output_type": "stream",
     "text": [
      "Integral from 0 to x: 1/4\n"
     ]
    }
   ],
   "source": [
    "# Define the function 4 * exp(-4 * t)\n",
    "fd = 4 * x * sp.exp(-4 * x)\n",
    "\n",
    "# Integrate from 0 to x\n",
    "answer_d = sp.integrate(fd, (x, 0, sp.oo))\n",
    "print(\"Integral from 0 to x:\", answer_d)\n"
   ]
  },
  {
   "cell_type": "code",
   "execution_count": null,
   "id": "047f92b7-d421-4964-8fcf-12457e5b1ae9",
   "metadata": {},
   "outputs": [],
   "source": []
  }
 ],
 "metadata": {
  "kernelspec": {
   "display_name": "Python 3 (ipykernel)",
   "language": "python",
   "name": "python3"
  },
  "language_info": {
   "codemirror_mode": {
    "name": "ipython",
    "version": 3
   },
   "file_extension": ".py",
   "mimetype": "text/x-python",
   "name": "python",
   "nbconvert_exporter": "python",
   "pygments_lexer": "ipython3",
   "version": "3.11.4"
  }
 },
 "nbformat": 4,
 "nbformat_minor": 5
}
