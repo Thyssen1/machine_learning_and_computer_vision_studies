{
 "cells": [
  {
   "cell_type": "code",
   "execution_count": 1,
   "id": "7bb4ec03-8aa0-42c6-80d6-9f2f3d07fc85",
   "metadata": {},
   "outputs": [
    {
     "name": "stdout",
     "output_type": "stream",
     "text": [
      "Requirement already satisfied: scipy in c:\\users\\chris\\pycharmprojects\\machine_learning_and_computer_vision_studies\\.venv\\lib\\site-packages (1.14.1)\n",
      "Requirement already satisfied: numpy<2.3,>=1.23.5 in c:\\users\\chris\\pycharmprojects\\machine_learning_and_computer_vision_studies\\.venv\\lib\\site-packages (from scipy) (2.1.2)\n"
     ]
    },
    {
     "name": "stderr",
     "output_type": "stream",
     "text": [
      "\n",
      "[notice] A new release of pip is available: 23.2.1 -> 24.3.1\n",
      "[notice] To update, run: python.exe -m pip install --upgrade pip\n"
     ]
    }
   ],
   "source": [
    "!pip install scipy\n",
    "from scipy.stats import norm"
   ]
  },
  {
   "cell_type": "markdown",
   "id": "fa0f2c5e-c53e-41a9-a51f-c5050fd147ed",
   "metadata": {},
   "source": [
    "## Problem 4.4.8"
   ]
  },
  {
   "cell_type": "markdown",
   "id": "13f2421e-068c-4988-b345-f2b40d0c8590",
   "metadata": {},
   "source": [
    "a) \n",
    "$P(X > 0) = 1 - P(X \\leq 0) = 1 - \\Phi(0) = 1 - \\frac{1}{2} = 0.5$\n"
   ]
  },
  {
   "cell_type": "code",
   "execution_count": 22,
   "id": "73052af4-6499-4d93-b9a1-fa0254845fb0",
   "metadata": {},
   "outputs": [
    {
     "name": "stdout",
     "output_type": "stream",
     "text": [
      "P(X > 0) = 1 - P(X =< 0): 0.5\n"
     ]
    }
   ],
   "source": [
    "cdf_value = 1 - norm.cdf(0, loc=0, scale=1)\n",
    "\n",
    "print(\"P(X > 0) = 1 - P(X =< 0):\", cdf_value)"
   ]
  },
  {
   "cell_type": "markdown",
   "id": "7987de18-5b63-42b8-9204-8676a09184bb",
   "metadata": {},
   "source": [
    "b) \n",
    "\n",
    "$P(-3 < X < 8) = \\Phi( \\frac{8-3}{3} ) - \\Phi( \\frac{-3-3}{3} ) = \\Phi ( \\frac{5}{3} ) - \\Phi ( -2 ) $\n",
    "\n",
    "Which can be calculated as:"
   ]
  },
  {
   "cell_type": "code",
   "execution_count": 23,
   "id": "8cbf9665-b8df-4c7b-bffc-7901c9b72d6b",
   "metadata": {},
   "outputs": [
    {
     "data": {
      "text/plain": [
       "np.float64(0.9294595157790061)"
      ]
     },
     "execution_count": 23,
     "metadata": {},
     "output_type": "execute_result"
    }
   ],
   "source": [
    "norm.cdf(5/3) - norm.cdf(-2)"
   ]
  },
  {
   "cell_type": "markdown",
   "id": "5099eae2-80bc-4dba-8e87-d2caaa8ef2e7",
   "metadata": {},
   "source": [
    "In addition, we can direct the probability directly:"
   ]
  },
  {
   "cell_type": "code",
   "execution_count": 24,
   "id": "ad3dfd8f-2b28-4f28-8847-f37d00b0118e",
   "metadata": {},
   "outputs": [
    {
     "name": "stdout",
     "output_type": "stream",
     "text": [
      "P(X > 0) = 1 - P(X =< 0): 0.9294595157790061\n"
     ]
    }
   ],
   "source": [
    "# Compute the probability P(-3 < X < 8)\n",
    "mean = 3\n",
    "std_dev = 3\n",
    "cdf_value = norm.cdf(8, loc=mean, scale=std_dev) - norm.cdf(-3, loc=mean, scale=std_dev)\n",
    "\n",
    "print(\"P(X > 0) = 1 - P(X =< 0):\", cdf_value)"
   ]
  },
  {
   "cell_type": "markdown",
   "id": "89af815c-24d4-4d92-8b45-b05af57d9fab",
   "metadata": {},
   "source": [
    "c)\n",
    "\n",
    "$P(X > 5 | X > 3) = \\frac{P(X > 5)}{P(X > 3)} = \\frac{1 - P(X \\leq 5)}{1 - P(X \\leq 3)} = \\frac{1 - \\Phi(\\frac{2}{3})}{1 - \\Phi(0)} = 2 (1 - \\Phi(\\frac{2}{3}))$\n",
    "\n",
    "We will use scipy to compute this value and will also calculate the probability directly for double-checking.\n"
   ]
  },
  {
   "cell_type": "code",
   "execution_count": 33,
   "id": "26e29d83-9daa-45f4-a813-a81a05192804",
   "metadata": {},
   "outputs": [
    {
     "name": "stdout",
     "output_type": "stream",
     "text": [
      "2*(1-P(X < 2/3)): 0.5049850750938458\n"
     ]
    }
   ],
   "source": [
    "# Compute the probability P(X > 5 | X > 3) by the equation above\n",
    "cdf_value = norm.cdf(2/3)\n",
    "\n",
    "print(\"2*(1-P(X < 2/3)):\", 2*(1-cdf_value))"
   ]
  },
  {
   "cell_type": "code",
   "execution_count": 30,
   "id": "bc7f6af3-a322-4cab-8dd2-5d5d26d6eec3",
   "metadata": {},
   "outputs": [
    {
     "data": {
      "text/plain": [
       "np.float64(0.5049850750938458)"
      ]
     },
     "execution_count": 30,
     "metadata": {},
     "output_type": "execute_result"
    }
   ],
   "source": [
    "(1-norm.cdf(5, loc=3, scale=3)) / (1-norm.cdf(3, loc=3, scale=3))"
   ]
  }
 ],
 "metadata": {
  "kernelspec": {
   "display_name": "Python 3 (ipykernel)",
   "language": "python",
   "name": "python3"
  },
  "language_info": {
   "codemirror_mode": {
    "name": "ipython",
    "version": 3
   },
   "file_extension": ".py",
   "mimetype": "text/x-python",
   "name": "python",
   "nbconvert_exporter": "python",
   "pygments_lexer": "ipython3",
   "version": "3.11.4"
  }
 },
 "nbformat": 4,
 "nbformat_minor": 5
}
