{
 "cells": [
  {
   "cell_type": "markdown",
   "id": "24718dab-b01d-42da-a03d-33c3c54af14c",
   "metadata": {},
   "source": [
    "## Problem 4.4.23"
   ]
  },
  {
   "cell_type": "markdown",
   "id": "b2d6a500-6f8f-4478-b3b5-ebc1d9959187",
   "metadata": {},
   "source": [
    "Let $X_{i} \\sim \\text{Exponential} (\\lambda)$ and $Y \\sim \\text{Gamma} (n, \\lambda)$.\n",
    "Furthermore, let:\n",
    "\n",
    "$Y = X_{1} + ... + X_{n}$\n",
    "\n",
    "where Y is the sum of independent exponentially distributed random variables.\n",
    "Then the expectation is:\n",
    "\n",
    "$\\mathbb{E} [Y] = \\mathbb{E} [X_{1} + ... + X_{n}] = \\mathbb{E} [X_{1}] + ... + \\mathbb{E} [X_{n}]$ (by linearity of expectation)\n",
    "\n",
    "\n",
    "Since $\\mathbb{E} [X_{i}] = \\frac{1}{\\lambda}$, then \n",
    "\n",
    "$\\mathbb{E} [Y] = \\frac{1}{\\lambda} + ... + \\frac{1}{\\lambda} = \\frac{n}{\\lambda}$\n",
    "\n",
    "Furthermore, since $X_{i}$ are independent with variance $\\mathbb{V} [X_{i}] = \\frac{1}{\\lambda^{2}}$, we can write:\n",
    "\n",
    "$\\mathbb{V} [Y] = \\mathbb{V} [X_{1}] + ... + \\mathbb{V} [X_{n}] = \\frac{1}{\\lambda^{2}} + ... + \\frac{1}{\\lambda^{2}} = \\frac{n}{\\lambda^{2}} $"
   ]
  },
  {
   "cell_type": "markdown",
   "id": "dc8c89a5-0e66-4b91-9537-095b1ca8d577",
   "metadata": {},
   "source": [
    "Finally, we have shown that $Y$ has $\\mathbb{E} [Y] = \\frac{n}{\\lambda}$ and $\\mathbb{V} [Y] = \\frac{n}{\\lambda^{2}} $"
   ]
  },
  {
   "cell_type": "markdown",
   "id": "31ccac0c-8393-4747-b1b2-33a7b05ff718",
   "metadata": {},
   "source": []
  }
 ],
 "metadata": {
  "kernelspec": {
   "display_name": "Python 3 (ipykernel)",
   "language": "python",
   "name": "python3"
  },
  "language_info": {
   "codemirror_mode": {
    "name": "ipython",
    "version": 3
   },
   "file_extension": ".py",
   "mimetype": "text/x-python",
   "name": "python",
   "nbconvert_exporter": "python",
   "pygments_lexer": "ipython3",
   "version": "3.11.4"
  }
 },
 "nbformat": 4,
 "nbformat_minor": 5
}
