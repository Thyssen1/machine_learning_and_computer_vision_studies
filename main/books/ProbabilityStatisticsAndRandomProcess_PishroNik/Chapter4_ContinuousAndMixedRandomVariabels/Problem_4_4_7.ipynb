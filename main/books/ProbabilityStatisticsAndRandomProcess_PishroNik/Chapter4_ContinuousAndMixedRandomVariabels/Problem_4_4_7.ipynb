{
 "cells": [
  {
   "cell_type": "markdown",
   "id": "7e6ce4f6-2d45-4c78-8a86-91ff0920d8b8",
   "metadata": {},
   "source": [
    "## Problem 4.4.7"
   ]
  },
  {
   "cell_type": "markdown",
   "id": "3bced476-e1f5-4ded-a79a-6cb9fb2f7018",
   "metadata": {},
   "source": [
    "a)\n",
    "First, the expectation of $X^{n}$ is:\n",
    "\n",
    "$\\mathbb{E} [X^{n}] = \\int_{0}^{\\infty} x^{n} \\lambda e^{-\\lambda x} dx = \\frac{1}{\\lambda_{n}} \\int_{0}^{\\infty} x^{n} \\lambda^{n+1} e^{-\\lambda x} dx$\n",
    "\n",
    "And we can write $y = \\lambda x$, thus $dx = \\frac{1}{\\lambda} dy$, and we have:\n",
    "\n",
    "$\\mathbb{E} [X^{n}] = \\frac{1}{\\lambda_{n}} \\int_{0}^{\\infty} y^{n} e^{y} dy$\n",
    "\n",
    "Now, by using integration by parts we can solve this problem:\n",
    "\n",
    "$\\int_{a}^{b} u v'(y) dy = [u(y) v(y)]_{a}^{b} - \\int_{a}^{a} u'(y) v(y) dy$ \n",
    "\n",
    "where we let $u(y) = y^{n}$ and $v'(y) = e^{-y}$. Then $u'(y) = \\frac{1}{n} y^{n-1}$ and $v(y) = -e^{-y}$:\n",
    "\n",
    "$\\mathbb{E} [X^{n}] = [-y^{n} e^{-y}]_{0}^{\\infty} + \\int_{0}^{\\infty} n y^{n-1} e^{-y} dy = \\frac{n}{\\lambda^{n}} \\int_{0}^{\\infty} y^{n-1} e^{-y} dy$\n",
    "\n",
    "Now, substituting $dy = \\lambda dx$, $y^{n-1} = \\lambda^{n-1} x^{n-1}$ and $y = \\lambda x)$ back we get:\n",
    "\n",
    "$\\mathbb{E} [X^{n}] = \\frac{n}{\\lambda^{n}} \\int_{0}^{\\infty} \\lambda (x \\cdot \\lambda)^{n-1} e^{-\\lambda x} dx = \\frac{n}{\\lambda} \\int_{0}^{\\infty} \\lambda x^{n-1} e^{-\\lambda x} dx = \\frac{n}{\\lambda} \\mathbb{E} [X^{n-1}]$\n",
    "\n",
    "for $n \\in \\{1, 2, 3, ... \\}$."
   ]
  },
  {
   "cell_type": "markdown",
   "id": "00f641ae-3389-4d5d-9266-9578b1982f98",
   "metadata": {},
   "source": [
    "b)\n",
    "We can quickly show that:\n",
    "\n",
    "$\\mathbb{E} [X^{n}] = \\frac{x}{\\lambda} \\mathbb{E} [X^{n-1}] = \\frac{n}{\\lambda} \\frac{n-1}{\\lambda} ... \\frac{1}{\\lambda} = \\frac{n!}{\\lambda^{n}}$"
   ]
  },
  {
   "cell_type": "markdown",
   "id": "39584418-c1ac-4a2c-a66d-2415cd0733f0",
   "metadata": {},
   "source": []
  },
  {
   "cell_type": "markdown",
   "id": "64bc90f6-e8b7-4ea9-aeb1-a884755faac9",
   "metadata": {},
   "source": []
  }
 ],
 "metadata": {
  "kernelspec": {
   "display_name": "Python 3 (ipykernel)",
   "language": "python",
   "name": "python3"
  },
  "language_info": {
   "codemirror_mode": {
    "name": "ipython",
    "version": 3
   },
   "file_extension": ".py",
   "mimetype": "text/x-python",
   "name": "python",
   "nbconvert_exporter": "python",
   "pygments_lexer": "ipython3",
   "version": "3.11.4"
  }
 },
 "nbformat": 4,
 "nbformat_minor": 5
}
