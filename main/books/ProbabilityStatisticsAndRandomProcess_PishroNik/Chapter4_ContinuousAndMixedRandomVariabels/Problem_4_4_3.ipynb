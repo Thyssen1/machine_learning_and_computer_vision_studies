{
 "cells": [
  {
   "cell_type": "markdown",
   "id": "766be2eb-65af-4cd7-878a-2d275c64eeed",
   "metadata": {},
   "source": [
    "## Problem 4.4.3"
   ]
  },
  {
   "cell_type": "code",
   "execution_count": 11,
   "id": "f1d90e35-930e-44e1-880f-687b49732a4b",
   "metadata": {},
   "outputs": [
    {
     "name": "stdout",
     "output_type": "stream",
     "text": [
      "Requirement already satisfied: scipy in c:\\users\\chris\\pycharmprojects\\machine_learning_and_computer_vision_studies\\.venv\\lib\\site-packages (1.14.1)\n",
      "Requirement already satisfied: numpy<2.3,>=1.23.5 in c:\\users\\chris\\pycharmprojects\\machine_learning_and_computer_vision_studies\\.venv\\lib\\site-packages (from scipy) (2.1.2)\n"
     ]
    },
    {
     "name": "stderr",
     "output_type": "stream",
     "text": [
      "\n",
      "[notice] A new release of pip is available: 23.2.1 -> 24.3.1\n",
      "[notice] To update, run: python.exe -m pip install --upgrade pip\n"
     ]
    },
    {
     "name": "stdout",
     "output_type": "stream",
     "text": [
      "Requirement already satisfied: numpy in c:\\users\\chris\\pycharmprojects\\machine_learning_and_computer_vision_studies\\.venv\\lib\\site-packages (2.1.2)\n"
     ]
    },
    {
     "name": "stderr",
     "output_type": "stream",
     "text": [
      "\n",
      "[notice] A new release of pip is available: 23.2.1 -> 24.3.1\n",
      "[notice] To update, run: python.exe -m pip install --upgrade pip\n"
     ]
    }
   ],
   "source": [
    "!pip install scipy\n",
    "!pip install numpy\n",
    "\n",
    "from scipy.integrate import quad\n",
    "import numpy as np"
   ]
  },
  {
   "cell_type": "markdown",
   "id": "6c067845-c515-45d8-b9d2-f8b45e011ce8",
   "metadata": {},
   "source": [
    "a) \n",
    "We use LOTUS to find:\n",
    "\n",
    "$\\mathbb{E} (X^{n}) = \\int_{0}^{1} x^{n} (x^{2} + \\frac{2}{3}) dx = [\\frac{1}{n+3} x^{n+3} + \\frac{2}{3} \\frac{1}{n+1} x^{n+1}]_{0}^{1} = \\frac{1}{n+3} + \\frac{2}{3} \\frac{1}{n+1}$\n",
    "\n",
    "For example, for $n=2$ we get:\n",
    "\n",
    "$\\mathbb{E} [X^{2}] = \\frac{19}{45} = 0.4\\bar{2}$\n"
   ]
  },
  {
   "cell_type": "code",
   "execution_count": 12,
   "id": "f5edfd73-62e5-47bd-af39-9dd26e2839f0",
   "metadata": {},
   "outputs": [
    {
     "name": "stdout",
     "output_type": "stream",
     "text": [
      "The result of the integral for n = 1 is approximately 0.5833333333333333\n",
      "The result of the integral for n = 2 is approximately 0.4222222222222222\n"
     ]
    }
   ],
   "source": [
    "# Define the function to integrate\n",
    "def integrand(x, n):\n",
    "    return x**n * (x**2 + 2/3)\n",
    "\n",
    "# Perform the integration from 0 to 1 for n=1\n",
    "n_value = 1\n",
    "result, error = quad(integrand, 0, 1, args=(n_value,))\n",
    "print(f\"The result of the integral for n = {n_value} is approximately {result}\")\n",
    "\n",
    "# Perform the integration from 0 to 1 for n=2\n",
    "n_value = 2\n",
    "result, error = quad(integrand, 0, 1, args=(n_value,))\n",
    "print(f\"The result of the integral for n = {n_value} is approximately {result}\")\n",
    "\n"
   ]
  },
  {
   "cell_type": "markdown",
   "id": "c5fd8ca0-43d6-44cd-8581-42424a772545",
   "metadata": {},
   "source": [
    "b) We know that:\n",
    "\n",
    "$\\mathbb{E} [X] = \\frac{7}{12}$ and $\\mathbb{E} [X^{2}] = \\frac{19}{45}$\n",
    "\n",
    "Then:\n",
    "\n",
    "$\\mathbb{V} [X] = \\mathbb{E} [X^{2}] - \\mathbb{E} [X]^{2} = \\frac{19}{49} -  (\\frac{7}{12})^{2}$\n",
    "\n",
    "which then evaluates to:"
   ]
  },
  {
   "cell_type": "code",
   "execution_count": 14,
   "id": "86ae31b4-6fff-402e-a2ff-6ee68dee03af",
   "metadata": {},
   "outputs": [
    {
     "data": {
      "text/plain": [
       "0.04747732426303847"
      ]
     },
     "execution_count": 14,
     "metadata": {},
     "output_type": "execute_result"
    }
   ],
   "source": [
    "(19/49) - (7/12) ** 2"
   ]
  },
  {
   "cell_type": "code",
   "execution_count": 16,
   "id": "dd1c094e-9e79-4ad4-ae9f-fa5c48e5afbe",
   "metadata": {},
   "outputs": [
    {
     "data": {
      "text/plain": [
       "np.float64(0.36787944117144233)"
      ]
     },
     "execution_count": 16,
     "metadata": {},
     "output_type": "execute_result"
    }
   ],
   "source": [
    "np.exp(-1)"
   ]
  },
  {
   "cell_type": "code",
   "execution_count": null,
   "id": "e32fd0c3-4f6b-41bb-9c6e-e7ef998141d4",
   "metadata": {},
   "outputs": [],
   "source": []
  }
 ],
 "metadata": {
  "kernelspec": {
   "display_name": "Python 3 (ipykernel)",
   "language": "python",
   "name": "python3"
  },
  "language_info": {
   "codemirror_mode": {
    "name": "ipython",
    "version": 3
   },
   "file_extension": ".py",
   "mimetype": "text/x-python",
   "name": "python",
   "nbconvert_exporter": "python",
   "pygments_lexer": "ipython3",
   "version": "3.11.4"
  }
 },
 "nbformat": 4,
 "nbformat_minor": 5
}
