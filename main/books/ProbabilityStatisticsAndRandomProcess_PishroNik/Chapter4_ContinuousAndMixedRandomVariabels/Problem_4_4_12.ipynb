{
 "cells": [
  {
   "cell_type": "markdown",
   "id": "c7a292a1-6f06-40ff-b8fc-26ec99d7378f",
   "metadata": {},
   "source": [
    "## Problem 4.4.12"
   ]
  },
  {
   "cell_type": "markdown",
   "id": "fdde3c76-d4a2-42f9-95e5-8727e7938466",
   "metadata": {},
   "source": [
    "a)\n",
    "\n",
    "$P(X \\geq m) = 1 - P(X \\leq m) = 1 - \\frac{m-a}{b-a} = \\frac{1}{2}$\n",
    "\n",
    "$P(X \\leq m) = \\frac{m-a}{b-a} = \\frac{1}{2}$\n",
    "\n",
    "Then letting the two expressions be equal we get:\n",
    "\n",
    "$1 - \\frac{m-a}{b-a} = \\frac{m-a}{b-a} \\implies m = \\frac{a+b}{2}$"
   ]
  },
  {
   "cell_type": "markdown",
   "id": "e2d7c480-b4c1-4f5b-a19a-2323fed2301c",
   "metadata": {},
   "source": [
    "The result agrees with the literature and also makes sense and can be checked by:\n",
    "\n",
    "$F_{X} ( \\frac{a+b}{a} ) = \\frac{\\frac{a+b}{2} - a}{b-a} = \\frac{1}{2}$"
   ]
  },
  {
   "cell_type": "markdown",
   "id": "63bc7719-2434-4b42-9698-498590c8b511",
   "metadata": {},
   "source": [
    "b)\n",
    "\n",
    "$P(X \\leq m) = 1 - e^{-\\lambda m} = \\frac{1}{2} \\implies e^{\\lambda m} = 2 \\implies m = \\frac{\\ln{2}}{\\lambda}$\n",
    "\n",
    "which agrees with the literature but we can also check it directly by:\n",
    "\n",
    "$F_{X} (m) = F_{X} ( \\frac{\\ln{2}}{m} ) = 1 - e^{- \\frac{\\ln{2}}{\\lambda}} = 1 - \\frac{1}{2} = \\frac{1}{2}$\n"
   ]
  },
  {
   "cell_type": "markdown",
   "id": "650d62d9-dbcf-4752-a811-ed1fa6439c51",
   "metadata": {},
   "source": [
    "c)\n",
    "\n",
    "$P(X \\leq m) = \\Phi ( \\frac{m-\\mu}{\\sigma} ) \\implies \\frac{m-\\mu}{\\sigma} = \\Phi^{-1} (\\frac{1}{2}) = 0 \\implies m = \\mu$\n",
    "\n",
    "which agrees with the literature, and we can also check this by:\n",
    "\n",
    "$P(X \\leq \\mu) = \\Phi (0) = \\frac{1}{2}$"
   ]
  },
  {
   "cell_type": "markdown",
   "id": "9587c17e-1580-47bb-8d33-22fff86f08d1",
   "metadata": {},
   "source": []
  }
 ],
 "metadata": {
  "kernelspec": {
   "display_name": "Python 3 (ipykernel)",
   "language": "python",
   "name": "python3"
  },
  "language_info": {
   "codemirror_mode": {
    "name": "ipython",
    "version": 3
   },
   "file_extension": ".py",
   "mimetype": "text/x-python",
   "name": "python",
   "nbconvert_exporter": "python",
   "pygments_lexer": "ipython3",
   "version": "3.11.4"
  }
 },
 "nbformat": 4,
 "nbformat_minor": 5
}
