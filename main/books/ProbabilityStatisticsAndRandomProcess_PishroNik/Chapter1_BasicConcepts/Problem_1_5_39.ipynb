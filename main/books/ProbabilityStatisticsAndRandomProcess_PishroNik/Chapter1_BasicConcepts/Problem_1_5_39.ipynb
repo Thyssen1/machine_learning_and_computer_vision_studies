{
 "cells": [
  {
   "cell_type": "markdown",
   "id": "fbe23e6e-bd5e-48ff-a416-6b8ef8120aa4",
   "metadata": {},
   "source": [
    "## Problem 1.5.37"
   ]
  },
  {
   "cell_type": "markdown",
   "id": "8abb55da-7a42-4a82-88f1-24179d404aa6",
   "metadata": {},
   "source": [
    "Let $A = \\{ \\text{All girls} \\}$ and $G = \\{ \\text{A chosen child is a girl} \\}$.\n",
    "\n",
    "$P(A) = \\frac{1}{2^{n}}$ (since there is only one event out of $2^{n}$ events where all children are girls).\n",
    "\n",
    "$P(G|A) = 1$ (since if they are all girls, the probability of chosing a girl is 100%) \n",
    "\n",
    "$P(G) = \\frac{1}{2}$"
   ]
  },
  {
   "cell_type": "markdown",
   "id": "bb3ca90b-306d-4efd-905a-37179b22c1c6",
   "metadata": {},
   "source": [
    "Then:\n",
    "\n",
    "$P(A|G) = \\frac{P(G|A) P(A)}{P(G)} = \\frac{1}{2^{n-1}}$"
   ]
  },
  {
   "cell_type": "markdown",
   "id": "d11eff25-2ac1-43c6-9bf1-a451084d5748",
   "metadata": {},
   "source": [
    "In a similar manner, we can also find the answer by assuming that the event, $G_{i}$, that the i'th child is a girl is independent from the others:\n",
    "\n",
    "$P(A|G) = P(G_{1}) P(G_{2}) \\cdot ... \\cdot P(G_{n})$\n",
    "\n",
    "Then if $P(G_{1}) = 1$ without loss of generality, we find:\n",
    "\n",
    "$P(A|G) = 1 \\frac{1}{2} \\cdot ... \\cdot P(G_{n}) = 1 \\frac{1}{2} \\cdot ... \\cdot \\frac{1}{2} = \\frac{1}{2^{n-1}}$"
   ]
  },
  {
   "cell_type": "markdown",
   "id": "66fdc3f0-1c4c-478f-80bd-2b02dcd53253",
   "metadata": {},
   "source": []
  }
 ],
 "metadata": {
  "kernelspec": {
   "display_name": "Python 3 (ipykernel)",
   "language": "python",
   "name": "python3"
  },
  "language_info": {
   "codemirror_mode": {
    "name": "ipython",
    "version": 3
   },
   "file_extension": ".py",
   "mimetype": "text/x-python",
   "name": "python",
   "nbconvert_exporter": "python",
   "pygments_lexer": "ipython3",
   "version": "3.11.4"
  }
 },
 "nbformat": 4,
 "nbformat_minor": 5
}
