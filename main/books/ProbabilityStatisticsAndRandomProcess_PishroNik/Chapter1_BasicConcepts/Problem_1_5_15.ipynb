{
 "cells": [
  {
   "cell_type": "markdown",
   "id": "fdbf1a1f-2273-4d30-843b-1118feaffbba",
   "metadata": {},
   "source": [
    "## Problem 1.5.15"
   ]
  },
  {
   "cell_type": "markdown",
   "id": "d370d225-77b5-4bf2-875c-f7f450f757e7",
   "metadata": {},
   "source": [
    "a) $P(X_{2} = 4) = \\frac{1}{6} $\n"
   ]
  },
  {
   "cell_type": "markdown",
   "id": "a538a0f4-2dc9-43a9-aeff-66edbdd595f5",
   "metadata": {},
   "source": [
    "b) $P(X_{1} + X_{2} = 7) = \\frac{6}{36} = \\frac{1}{6}$\n",
    "\n",
    "since there are 6 outcomes out of 36 where the sum of the dice are 7.\n"
   ]
  },
  {
   "cell_type": "markdown",
   "id": "0157e765-8145-4bed-ba21-d7bf740543dc",
   "metadata": {},
   "source": [
    "c) $P(X_{1} \\neq 2, X_{2} \\geq 4) = P(X_{1} \\neq 2) P(X_{2} \\geq 4) = \\frac{5}{6} \\frac{3}{6} = \\frac{15}{36}$"
   ]
  },
  {
   "cell_type": "code",
   "execution_count": null,
   "id": "b44ffe74-0970-46c9-8301-598316f75e3d",
   "metadata": {},
   "outputs": [],
   "source": []
  }
 ],
 "metadata": {
  "kernelspec": {
   "display_name": "Python 3 (ipykernel)",
   "language": "python",
   "name": "python3"
  },
  "language_info": {
   "codemirror_mode": {
    "name": "ipython",
    "version": 3
   },
   "file_extension": ".py",
   "mimetype": "text/x-python",
   "name": "python",
   "nbconvert_exporter": "python",
   "pygments_lexer": "ipython3",
   "version": "3.11.4"
  }
 },
 "nbformat": 4,
 "nbformat_minor": 5
}
