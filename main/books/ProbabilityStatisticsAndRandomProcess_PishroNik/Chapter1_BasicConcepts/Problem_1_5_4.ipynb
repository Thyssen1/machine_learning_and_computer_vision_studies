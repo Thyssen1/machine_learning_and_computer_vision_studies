{
 "cells": [
  {
   "cell_type": "markdown",
   "id": "7ea83c43-a6d6-46f7-8514-b99ee6539b96",
   "metadata": {},
   "source": [
    "## Problem 1.5.4"
   ]
  },
  {
   "cell_type": "markdown",
   "id": "b3654546-b3f8-440e-bfa1-6891e160a127",
   "metadata": {},
   "source": [
    "$S = \\{H,T\\} \\times \\{H,T\\} = \\{ (H,H), (H,T), (T,H), (T,T) \\}$"
   ]
  },
  {
   "cell_type": "markdown",
   "id": "e9a47ba3-0533-43f7-a568-31ddb93a12bc",
   "metadata": {},
   "source": [
    "a) $A = \\{ (H,H), (H,T) \\}$"
   ]
  },
  {
   "cell_type": "markdown",
   "id": "e31b97be-d77f-45ef-97e9-6e1d8bd0024b",
   "metadata": {},
   "source": [
    "b) $B = \\{ (H,T), (T,H), (T,T) \\}$"
   ]
  },
  {
   "cell_type": "markdown",
   "id": "5943adf1-6f3a-404e-a97f-3df95395d3b5",
   "metadata": {},
   "source": [
    "c) $C = \\{ (H,T), (T,H) \\} $"
   ]
  },
  {
   "cell_type": "code",
   "execution_count": null,
   "id": "c4693a3f-79b9-41ca-863f-ebe56536037a",
   "metadata": {},
   "outputs": [],
   "source": []
  }
 ],
 "metadata": {
  "kernelspec": {
   "display_name": "Python 3 (ipykernel)",
   "language": "python",
   "name": "python3"
  },
  "language_info": {
   "codemirror_mode": {
    "name": "ipython",
    "version": 3
   },
   "file_extension": ".py",
   "mimetype": "text/x-python",
   "name": "python",
   "nbconvert_exporter": "python",
   "pygments_lexer": "ipython3",
   "version": "3.12.7"
  }
 },
 "nbformat": 4,
 "nbformat_minor": 5
}
