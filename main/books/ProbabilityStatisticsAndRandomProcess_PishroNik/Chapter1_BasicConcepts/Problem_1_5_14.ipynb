{
 "cells": [
  {
   "cell_type": "markdown",
   "id": "398348b0-be08-466e-b26b-36a98977872f",
   "metadata": {},
   "source": [
    "## Problem 1.5.14"
   ]
  },
  {
   "cell_type": "markdown",
   "id": "30ebd294-b463-40a2-9d55-51ba6a80d21d",
   "metadata": {},
   "source": [
    "a)\n",
    "\n",
    "$P(A \\cap B) = P(A) + P(B) - P(A \\cup B) \\implies 0.9 = 0.4 + 0.7 - P(A \\cup B) \\implies P(A \\cap B) = 0.2$"
   ]
  },
  {
   "cell_type": "markdown",
   "id": "266d52a5-1435-4c19-9eb9-78d3dfcc0626",
   "metadata": {},
   "source": [
    "b)\n",
    "\n",
    "$P(A^{C} \\cap B) = P(A^{C}) + P(B) - P(A^{C} \\cup B) = 1 - 0.4 + 0.7 - 0.8 = 0.5$\n",
    "\n",
    "where we got 0.8 from the fact that $P(A \\cup B) + P(A^{C} \\cup B) = 1$ because A partitions B."
   ]
  },
  {
   "cell_type": "markdown",
   "id": "81523483-c833-451f-8450-7d8d329eca3a",
   "metadata": {},
   "source": [
    "c)\n",
    "\n",
    "$P(A - B) = P(A) - P(A \\cap B) = 0.4 - 0.2 = 0.2 $"
   ]
  },
  {
   "cell_type": "markdown",
   "id": "66ab44fc-b99a-4ff5-a3ca-c459503b5239",
   "metadata": {},
   "source": [
    "d)\n",
    "\n",
    "$P(A^{C} - B) = 1 - P(A \\cup B) = 1 - 0.9 = 0.1$"
   ]
  },
  {
   "cell_type": "markdown",
   "id": "8749cb26-c8d3-40cf-a9c2-543c0c7a5d50",
   "metadata": {},
   "source": [
    "e)\n",
    "\n",
    "$P(A^{C} \\cup B) = P(A^{C}) + P(B) - P(A^{C} \\cap B) = 1 - P(A) + P(B) - P(B-A) = 1 - P(A) + P(B) - (P(B) - P(A \\cap B)) = 1 - P(A) + P(A \\cap B) = 0.8$\n"
   ]
  },
  {
   "cell_type": "markdown",
   "id": "47c6645f-cdc2-4dac-a42b-dd863fb4f5ee",
   "metadata": {},
   "source": [
    "f)\n",
    "\n",
    "$P(A \\cap (B \\cup A^{C})) = P(A \\cap (A-B)^{C}) = P(A \\cap B) = 0.2 $\n"
   ]
  },
  {
   "cell_type": "code",
   "execution_count": null,
   "id": "a5b8dfe2-ee01-49a0-9ef2-38e5d5be442a",
   "metadata": {},
   "outputs": [],
   "source": []
  }
 ],
 "metadata": {
  "kernelspec": {
   "display_name": "Python 3 (ipykernel)",
   "language": "python",
   "name": "python3"
  },
  "language_info": {
   "codemirror_mode": {
    "name": "ipython",
    "version": 3
   },
   "file_extension": ".py",
   "mimetype": "text/x-python",
   "name": "python",
   "nbconvert_exporter": "python",
   "pygments_lexer": "ipython3",
   "version": "3.11.4"
  }
 },
 "nbformat": 4,
 "nbformat_minor": 5
}
