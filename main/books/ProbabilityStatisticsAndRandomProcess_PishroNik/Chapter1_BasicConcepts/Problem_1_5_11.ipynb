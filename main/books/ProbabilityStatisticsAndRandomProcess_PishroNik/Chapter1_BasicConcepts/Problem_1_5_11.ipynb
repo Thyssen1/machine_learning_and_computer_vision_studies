{
 "cells": [
  {
   "cell_type": "markdown",
   "id": "fbd1dfd5-5bca-4659-9bcf-5de7de996606",
   "metadata": {},
   "source": [
    "## Problem 1.5.11"
   ]
  },
  {
   "cell_type": "markdown",
   "id": "1df10be6-26a8-4c96-a649-c55a28e355f0",
   "metadata": {},
   "source": [
    "$[0, 1[$ cannot be listed. We cannot write $a_{2}$ since there are infinitely many numbers next to 0."
   ]
  },
  {
   "cell_type": "markdown",
   "id": "225cca39-78ac-49de-8809-872b365bb50c",
   "metadata": {},
   "source": []
  },
  {
   "cell_type": "markdown",
   "id": "6e65921a-622f-4663-b523-feb7bb40ebfc",
   "metadata": {},
   "source": []
  }
 ],
 "metadata": {
  "kernelspec": {
   "display_name": "Python 3 (ipykernel)",
   "language": "python",
   "name": "python3"
  },
  "language_info": {
   "codemirror_mode": {
    "name": "ipython",
    "version": 3
   },
   "file_extension": ".py",
   "mimetype": "text/x-python",
   "name": "python",
   "nbconvert_exporter": "python",
   "pygments_lexer": "ipython3",
   "version": "3.11.4"
  }
 },
 "nbformat": 4,
 "nbformat_minor": 5
}
