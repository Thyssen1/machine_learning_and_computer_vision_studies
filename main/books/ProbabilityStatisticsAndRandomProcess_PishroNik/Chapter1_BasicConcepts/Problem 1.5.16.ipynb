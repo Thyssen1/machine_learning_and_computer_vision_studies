{
 "cells": [
  {
   "cell_type": "markdown",
   "id": "b1f09c54-5546-4a47-81ba-9ce96cecce70",
   "metadata": {},
   "source": [
    "## Problem 1.5.16"
   ]
  },
  {
   "cell_type": "markdown",
   "id": "d86cb2c2-09f0-4a66-9588-21ad8d64494f",
   "metadata": {},
   "source": [
    "a) We can use the formula for the geometric series to find:\n",
    "\n",
    "$\\sum_{k=1}^{\\infty} \\frac{c}{3^{k}} = \\sum_{k=0}^{\\infty} \\frac{c}{3} \\frac{1}{3^{k}} = \\frac{c}{2} = 1 \\implies c = 2$\n"
   ]
  },
  {
   "cell_type": "markdown",
   "id": "4e9c6bcc-e347-4e50-9a4c-ef33197fe666",
   "metadata": {},
   "source": [
    "b) The three events of the random experiment are disjoint, and thus:\n",
    "\n",
    "$P(\\{2,4,6\\}) = P( \\{ 2 \\} ) + P( \\{ 4 \\} ) + P( \\{ 6 \\}) = \\frac{182}{729}$"
   ]
  },
  {
   "cell_type": "markdown",
   "id": "260469c2-6d66-415e-973b-3cd1fc63a122",
   "metadata": {},
   "source": [
    "c) \n",
    "$P(\\{3, 4, 5, ...\\}) = 1 - P(\\{1,2\\}) = 1 - P(\\{ 1 \\}) - P(\\{ 2 \\}) = \\frac{1}{9}$"
   ]
  },
  {
   "cell_type": "code",
   "execution_count": null,
   "id": "bb1c0999-cc7c-4281-ad03-3f901e14aca5",
   "metadata": {},
   "outputs": [],
   "source": []
  }
 ],
 "metadata": {
  "kernelspec": {
   "display_name": "Python 3 (ipykernel)",
   "language": "python",
   "name": "python3"
  },
  "language_info": {
   "codemirror_mode": {
    "name": "ipython",
    "version": 3
   },
   "file_extension": ".py",
   "mimetype": "text/x-python",
   "name": "python",
   "nbconvert_exporter": "python",
   "pygments_lexer": "ipython3",
   "version": "3.11.4"
  }
 },
 "nbformat": 4,
 "nbformat_minor": 5
}
