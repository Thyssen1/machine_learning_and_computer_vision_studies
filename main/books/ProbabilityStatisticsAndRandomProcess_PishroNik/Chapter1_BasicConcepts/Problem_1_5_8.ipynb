{
 "cells": [
  {
   "cell_type": "markdown",
   "id": "b01e6868-6d12-4236-b0a2-daf21e289194",
   "metadata": {},
   "source": [
    "## Problem 1.5.8"
   ]
  },
  {
   "cell_type": "markdown",
   "id": "bbd10686-d4d8-45ad-b3fc-e80a540ec389",
   "metadata": {},
   "source": [
    "$A_{n} = [0, \\frac{n-1}{n} [$\n",
    "\n",
    "$A_{1} = [0, 0 [ = 0$\n",
    "\n",
    "$A_{2} = [0, \\frac{1}{2} [$\n",
    "\n",
    "$A_{3} = [0, \\frac{2}{3} [$\n",
    "\n",
    "and so on."
   ]
  },
  {
   "cell_type": "markdown",
   "id": "a0072667-d5dd-48a6-94b5-c4acd1c23f81",
   "metadata": {},
   "source": [
    "Then let:\n",
    "\n",
    "$\\lim_{n \\to \\infty} [0, \\frac{n-1}{n}[ = [0, 1[$\n",
    "\n",
    "Thus the union of all $A_{n}$ will be $[0, 1[$."
   ]
  },
  {
   "cell_type": "markdown",
   "id": "76690b43-15e0-4268-8225-582566b949f1",
   "metadata": {},
   "source": []
  }
 ],
 "metadata": {
  "kernelspec": {
   "display_name": "Python 3 (ipykernel)",
   "language": "python",
   "name": "python3"
  },
  "language_info": {
   "codemirror_mode": {
    "name": "ipython",
    "version": 3
   },
   "file_extension": ".py",
   "mimetype": "text/x-python",
   "name": "python",
   "nbconvert_exporter": "python",
   "pygments_lexer": "ipython3",
   "version": "3.11.4"
  }
 },
 "nbformat": 4,
 "nbformat_minor": 5
}
