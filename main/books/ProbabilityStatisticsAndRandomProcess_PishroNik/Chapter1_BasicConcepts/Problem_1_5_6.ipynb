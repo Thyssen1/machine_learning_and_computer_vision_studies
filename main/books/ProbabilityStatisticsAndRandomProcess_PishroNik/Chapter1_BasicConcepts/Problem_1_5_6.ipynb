{
 "cells": [
  {
   "cell_type": "markdown",
   "id": "3385c05a-cd72-4516-9ee9-b5a0ef049eea",
   "metadata": {},
   "source": [
    "## Problem 1.5.6"
   ]
  },
  {
   "cell_type": "markdown",
   "id": "238dfb05-49ef-407c-8c9f-f4b19bde5b94",
   "metadata": {},
   "source": [
    "Since A forms a partition of B we can write:\n",
    "\n",
    "$|B| = |B \\cap A_{1}| + |B \\cap A_{2}| + |B \\cap A_{3}| = 10 + 20 + 15 = 45$"
   ]
  },
  {
   "cell_type": "code",
   "execution_count": null,
   "id": "d7500331-894d-4559-8b0a-aa79ec1d2762",
   "metadata": {},
   "outputs": [],
   "source": []
  }
 ],
 "metadata": {
  "kernelspec": {
   "display_name": "Python 3 (ipykernel)",
   "language": "python",
   "name": "python3"
  },
  "language_info": {
   "codemirror_mode": {
    "name": "ipython",
    "version": 3
   },
   "file_extension": ".py",
   "mimetype": "text/x-python",
   "name": "python",
   "nbconvert_exporter": "python",
   "pygments_lexer": "ipython3",
   "version": "3.11.4"
  }
 },
 "nbformat": 4,
 "nbformat_minor": 5
}
