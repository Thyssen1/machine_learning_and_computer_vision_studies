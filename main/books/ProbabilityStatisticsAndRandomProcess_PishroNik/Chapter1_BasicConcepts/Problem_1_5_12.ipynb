{
 "cells": [
  {
   "cell_type": "markdown",
   "id": "b31b3885-8398-4fb5-801e-5fbe1882d20d",
   "metadata": {},
   "source": [
    "## Problem 1.5.12"
   ]
  },
  {
   "cell_type": "markdown",
   "id": "15c4b298-1aba-4dfa-b5bf-524d2bedfffb",
   "metadata": {},
   "source": [
    "a) Domain is the cartesian product $\\{H,T\\}^{3}$. The co-domain is the natural numbers including 0, $\\mathbb{N}_{0}$."
   ]
  },
  {
   "cell_type": "markdown",
   "id": "78474290-4013-48a7-94e2-3b7422f7f744",
   "metadata": {},
   "source": [
    "b) The range of $f$ is $\\{0,1,2,3\\}$ since the input argument can have either 0, 1, 2, or 3 H."
   ]
  },
  {
   "cell_type": "markdown",
   "id": "3eb058c4-23e0-492a-a8d4-cd19190c3772",
   "metadata": {},
   "source": [
    "c) $f(x)=2$ implies that $x \\in \\{ (H, H, T), (H, T, H), (T, H, H) \\}$."
   ]
  },
  {
   "cell_type": "code",
   "execution_count": null,
   "id": "73cd9647-1c4c-4bf5-9303-a07ae4e92e1b",
   "metadata": {},
   "outputs": [],
   "source": []
  }
 ],
 "metadata": {
  "kernelspec": {
   "display_name": "Python 3 (ipykernel)",
   "language": "python",
   "name": "python3"
  },
  "language_info": {
   "codemirror_mode": {
    "name": "ipython",
    "version": 3
   },
   "file_extension": ".py",
   "mimetype": "text/x-python",
   "name": "python",
   "nbconvert_exporter": "python",
   "pygments_lexer": "ipython3",
   "version": "3.12.6"
  }
 },
 "nbformat": 4,
 "nbformat_minor": 5
}
