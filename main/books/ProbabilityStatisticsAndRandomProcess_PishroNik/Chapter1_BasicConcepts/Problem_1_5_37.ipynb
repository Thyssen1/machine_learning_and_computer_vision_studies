{
 "cells": [
  {
   "cell_type": "markdown",
   "id": "48cc66f5-a5b3-4ac5-82c1-b6c7c9872a88",
   "metadata": {},
   "source": [
    "## Problem 1.5.37"
   ]
  },
  {
   "cell_type": "markdown",
   "id": "b4084043-9502-4f58-bc87-fb918b891560",
   "metadata": {},
   "source": [
    "Let $|S| = 2^{n}$ be the number of events in the space, since each child can be either a girl or a boy.\n",
    "\n",
    "Let $A = \\{ (G, G, ..., G)\\}$ be the event where all the n children are girls and let $C = 1 - C^{C}$ where $C^{C} = \\{B, ..., B\\}.\n",
    "\n",
    "C is the event of at least one girl and $C^{C}$ is the event of no girls. Thus $|C| = 2^{n}-1$ and $|A| = 1."
   ]
  },
  {
   "cell_type": "markdown",
   "id": "ff4166e1-c85b-4d5d-bd10-9bb17ab1af18",
   "metadata": {},
   "source": [
    "$P(A|C) = \\frac{P(A \\cap C)}{P(C)} = \\frac{\\frac{1}{2^{n}}}{\\frac{2^{n-1}}{2^{n}}} = \\frac{1}{2^{n-1}}$"
   ]
  },
  {
   "cell_type": "markdown",
   "id": "a4d1dd48-d6a9-415b-a74a-2cf63c45aede",
   "metadata": {},
   "source": []
  }
 ],
 "metadata": {
  "kernelspec": {
   "display_name": "Python 3 (ipykernel)",
   "language": "python",
   "name": "python3"
  },
  "language_info": {
   "codemirror_mode": {
    "name": "ipython",
    "version": 3
   },
   "file_extension": ".py",
   "mimetype": "text/x-python",
   "name": "python",
   "nbconvert_exporter": "python",
   "pygments_lexer": "ipython3",
   "version": "3.11.4"
  }
 },
 "nbformat": 4,
 "nbformat_minor": 5
}
