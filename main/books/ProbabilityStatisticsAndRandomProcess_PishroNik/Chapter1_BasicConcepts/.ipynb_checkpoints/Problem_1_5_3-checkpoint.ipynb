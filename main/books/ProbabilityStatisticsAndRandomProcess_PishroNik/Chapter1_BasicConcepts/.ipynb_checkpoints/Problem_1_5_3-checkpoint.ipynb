{
 "cells": [
  {
   "cell_type": "markdown",
   "id": "160ccd10-cb28-4974-95e7-b50734f456fd",
   "metadata": {},
   "source": [
    "## Problem 1.5.3"
   ]
  },
  {
   "cell_type": "markdown",
   "id": "83737734-d5b7-4c74-8bbe-bc97f2e4d3f6",
   "metadata": {},
   "source": [
    "a) $A \\cup B - A \\cap B = (A - B) \\cup (B - A)$"
   ]
  },
  {
   "cell_type": "markdown",
   "id": "1a484c18-7955-488f-abe8-4088b70fd0ca",
   "metadata": {},
   "source": [
    "b) $B - C$"
   ]
  },
  {
   "cell_type": "markdown",
   "id": "e6b055a4-f96a-465d-9d89-2608ad02e1dc",
   "metadata": {},
   "source": [
    "c) $(A \\cap B) \\cup (A \\cap C) = A \\cap (B \\cup C)$"
   ]
  },
  {
   "cell_type": "markdown",
   "id": "8e9e5948-b826-4e12-8e9e-a9f0b5c4a336",
   "metadata": {},
   "source": [
    "d) $(C - A - B) \\cup (A \\cap B - C)$"
   ]
  },
  {
   "cell_type": "code",
   "execution_count": null,
   "id": "c6db3b35-d429-492b-89cf-1ee8dad2e18d",
   "metadata": {},
   "outputs": [],
   "source": []
  }
 ],
 "metadata": {
  "kernelspec": {
   "display_name": "Python 3 (ipykernel)",
   "language": "python",
   "name": "python3"
  },
  "language_info": {
   "codemirror_mode": {
    "name": "ipython",
    "version": 3
   },
   "file_extension": ".py",
   "mimetype": "text/x-python",
   "name": "python",
   "nbconvert_exporter": "python",
   "pygments_lexer": "ipython3",
   "version": "3.12.6"
  }
 },
 "nbformat": 4,
 "nbformat_minor": 5
}
