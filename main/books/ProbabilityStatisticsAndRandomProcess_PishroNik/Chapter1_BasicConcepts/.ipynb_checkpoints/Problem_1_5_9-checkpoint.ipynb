{
 "cells": [
  {
   "cell_type": "markdown",
   "id": "29f758d5-d0f2-432f-847d-8ae012cd24da",
   "metadata": {},
   "source": [
    "## Problem 1.5.9"
   ]
  },
  {
   "cell_type": "markdown",
   "id": "a5b5cee5-2605-41e9-97fc-eaa904cdb69d",
   "metadata": {},
   "source": [
    "We can write A as:\n",
    "$A = \\cap_{n=1}^{\\infty} A_{n} = [0, 1[ \\cap [0, \\frac{1}{2} [ \\cap [0, \\frac{1}{3}], ...$\n",
    "\n",
    "Since $\\lim_{n \\to \\infty} A_{n} = 0$ and each $A_{i} \\subset A_{j}$ for $i > j$, $\\{0\\}$ is the only element in A."
   ]
  },
  {
   "cell_type": "markdown",
   "id": "9e61a211-2446-4f8c-8234-12478143e58c",
   "metadata": {},
   "source": []
  },
  {
   "cell_type": "markdown",
   "id": "d9d55df3-dfc0-4b4a-8a82-19b8f6aae1c5",
   "metadata": {},
   "source": []
  }
 ],
 "metadata": {
  "kernelspec": {
   "display_name": "Python 3 (ipykernel)",
   "language": "python",
   "name": "python3"
  },
  "language_info": {
   "codemirror_mode": {
    "name": "ipython",
    "version": 3
   },
   "file_extension": ".py",
   "mimetype": "text/x-python",
   "name": "python",
   "nbconvert_exporter": "python",
   "pygments_lexer": "ipython3",
   "version": "3.12.6"
  }
 },
 "nbformat": 4,
 "nbformat_minor": 5
}
