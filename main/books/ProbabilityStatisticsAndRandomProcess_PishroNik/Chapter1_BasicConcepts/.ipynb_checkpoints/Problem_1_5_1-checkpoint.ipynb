{
 "cells": [
  {
   "cell_type": "markdown",
   "id": "896ab4c5-daa5-46f8-853e-6a0982633368",
   "metadata": {},
   "source": [
    "## Problem 1.5.1"
   ]
  },
  {
   "cell_type": "markdown",
   "id": "07e39307-171b-4e57-b3cf-24eeac185d4d",
   "metadata": {},
   "source": [
    "a) $A \\cup B = \\{ 1, 2, ..., 7 \\} = S - \\{ 8, 9, 10 \\} $"
   ]
  },
  {
   "cell_type": "markdown",
   "id": "affd7814-1281-4e27-8a37-a0bbcfb6a2da",
   "metadata": {},
   "source": [
    "b) $(A \\cup C) - B = \\{ 1, 2, 3, 7, 8, 9, 10 \\} - B = \\{ 1, 8, 9, 10 \\} $"
   ]
  },
  {
   "cell_type": "markdown",
   "id": "37e5aab3-b817-45cb-a721-9efdbeac807c",
   "metadata": {},
   "source": [
    "c) $\\bar{A} - (B - C) = \\{4, 5, ..., 10 \\} \\cup \\{ 2, 3, ..., 6 \\} = \\{ 2, 3, 4, 5, ..., 10 \\} = S - \\{ 1 \\} $"
   ]
  },
  {
   "cell_type": "markdown",
   "id": "9f6ca9f9-1477-4257-9e35-cd099dd62833",
   "metadata": {},
   "source": [
    "d) A partition of S is a collection of non-empty sets who are disjoint and their union is S.\n",
    "\n",
    "$A \\cap B = \\{ 2, 3 \\} \\neq \\emptyset $\n",
    "\n",
    "$A \\cap C = \\emptyset $\n",
    "\n",
    "$A \\cap C = \\{ 7 \\} \\neq \\emptyset$\n",
    "\n",
    "$A \\cup B \\cup C = S$\n",
    "\n",
    "Although their union is S it is clear that the sets are not disjoint. Therefore they do not form a partition of S."
   ]
  },
  {
   "cell_type": "code",
   "execution_count": null,
   "id": "dc5d6f53-0002-4b73-96b9-b3b4f5cad959",
   "metadata": {},
   "outputs": [],
   "source": []
  }
 ],
 "metadata": {
  "kernelspec": {
   "display_name": "Python 3 (ipykernel)",
   "language": "python",
   "name": "python3"
  },
  "language_info": {
   "codemirror_mode": {
    "name": "ipython",
    "version": 3
   },
   "file_extension": ".py",
   "mimetype": "text/x-python",
   "name": "python",
   "nbconvert_exporter": "python",
   "pygments_lexer": "ipython3",
   "version": "3.11.4"
  }
 },
 "nbformat": 4,
 "nbformat_minor": 5
}
