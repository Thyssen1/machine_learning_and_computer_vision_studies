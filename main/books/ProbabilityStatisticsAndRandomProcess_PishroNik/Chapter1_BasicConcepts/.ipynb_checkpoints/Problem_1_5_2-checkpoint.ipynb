{
 "cells": [
  {
   "cell_type": "markdown",
   "id": "82e93695-1576-402f-987b-06f059840255",
   "metadata": {},
   "source": [
    "## Problem 1.5.2"
   ]
  },
  {
   "cell_type": "markdown",
   "id": "7305f180-8d98-42bf-a14b-3a58a3551578",
   "metadata": {},
   "source": [
    "a) $[6,8] \\cup [2, 7[ = [2, 8]$ "
   ]
  },
  {
   "cell_type": "markdown",
   "id": "0bd4e0d2-8f57-4bd1-937e-9e8827c4ad83",
   "metadata": {},
   "source": [
    "b) $[6,8] \\cap [2,7[ = [6,7[$"
   ]
  },
  {
   "cell_type": "markdown",
   "id": "3ea8e202-f45c-47c4-8e24-38855bd17e06",
   "metadata": {},
   "source": [
    "c) $[0,1]^{C} = ]-\\infty,0[ \\cup ]1,\\infty[$"
   ]
  },
  {
   "cell_type": "markdown",
   "id": "61b98894-8e7a-4825-917d-89ad8975ddce",
   "metadata": {},
   "source": [
    "d) $[6,8] - ]2,7[ = [7,8]$"
   ]
  },
  {
   "cell_type": "code",
   "execution_count": null,
   "id": "29d0ac92-efa4-4ea2-b448-349f7e0ad5f5",
   "metadata": {},
   "outputs": [],
   "source": []
  }
 ],
 "metadata": {
  "kernelspec": {
   "display_name": "Python 3 (ipykernel)",
   "language": "python",
   "name": "python3"
  },
  "language_info": {
   "codemirror_mode": {
    "name": "ipython",
    "version": 3
   },
   "file_extension": ".py",
   "mimetype": "text/x-python",
   "name": "python",
   "nbconvert_exporter": "python",
   "pygments_lexer": "ipython3",
   "version": "3.12.6"
  }
 },
 "nbformat": 4,
 "nbformat_minor": 5
}
