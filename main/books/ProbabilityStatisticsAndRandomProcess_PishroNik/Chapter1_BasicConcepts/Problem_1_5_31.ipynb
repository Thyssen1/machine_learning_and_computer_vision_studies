{
 "cells": [
  {
   "cell_type": "markdown",
   "id": "d36b99ac-4e5e-4f49-8b78-6468584de48c",
   "metadata": {},
   "source": [
    "## Problem 1.5.31"
   ]
  },
  {
   "cell_type": "markdown",
   "id": "b1b0821b-9eb0-48b1-9aa0-17f64d2ebf99",
   "metadata": {},
   "source": [
    "From the problem, we have the following information:\n",
    "\n",
    "$P(E) = 50 \\%, P(E^{C}) = 50 \\%$\n",
    "\n",
    "$P(R | E) = 1 \\%, P(R | E^{C}) = 0.001 \\%$"
   ]
  },
  {
   "cell_type": "markdown",
   "id": "cf1c9b7c-6bd4-4e6b-8570-2b5897beef40",
   "metadata": {},
   "source": [
    "Then, we apply Bayes' theorem and the law of total probability to arrive at:\n",
    "\n",
    "$P(E|R) = \\frac{P(R|E) P(E)}{P(R)} = \\frac{P(R|E) P(E)}{P(R|E)P(E) + P(R|E^{C}) P(E^{C})} = \\frac{1000}{1001} \\approx 0.999$"
   ]
  },
  {
   "cell_type": "markdown",
   "id": "b052df18-4767-4019-95e8-f7a4707c3390",
   "metadata": {},
   "source": []
  }
 ],
 "metadata": {
  "kernelspec": {
   "display_name": "Python 3 (ipykernel)",
   "language": "python",
   "name": "python3"
  },
  "language_info": {
   "codemirror_mode": {
    "name": "ipython",
    "version": 3
   },
   "file_extension": ".py",
   "mimetype": "text/x-python",
   "name": "python",
   "nbconvert_exporter": "python",
   "pygments_lexer": "ipython3",
   "version": "3.11.4"
  }
 },
 "nbformat": 4,
 "nbformat_minor": 5
}
