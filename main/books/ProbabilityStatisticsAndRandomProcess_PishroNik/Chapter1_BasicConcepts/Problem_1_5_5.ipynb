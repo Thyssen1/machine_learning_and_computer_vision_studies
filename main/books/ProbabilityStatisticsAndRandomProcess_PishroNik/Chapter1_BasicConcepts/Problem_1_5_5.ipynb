{
 "cells": [
  {
   "cell_type": "markdown",
   "id": "b4dc3ea1-2dba-4115-bddc-e7106d55bb9e",
   "metadata": {},
   "source": [
    "## Problem 1.5.5"
   ]
  },
  {
   "cell_type": "markdown",
   "id": "ff9950f9-c38f-48bf-9dfe-ca53d26dbe44",
   "metadata": {},
   "source": [
    "a)\n",
    "\n",
    "$A_{2} = \\{ 2, 4, 6, ..., 10 \\}= 2 \\{ 1, 2, 3, ..., 50 \\}, |A_{2}| = 50 $\n",
    "\n",
    "$A_{3} = \\{ 3, 6, 9, ..., 99 \\}= 3 \\{ 1, 2, 3, ..., 33 \\}, |A_{3}| = 33 $\n",
    "\n",
    "$A_{4} = \\{ 4, 8, 12, ..., 100 \\}= 4 \\{ 1, 2, 3, ..., 25 \\}, |A_{4}| = 25 $\n",
    "\n",
    "$A_{5} = \\{ 5, 10, 15, ..., 50 \\}= 5 \\{ 1, 2, 3, ..., 20 \\}, |A_{5}| = 20 $\n"
   ]
  },
  {
   "cell_type": "markdown",
   "id": "477b0350-7f99-4f95-8784-3133711aa8d0",
   "metadata": {},
   "source": [
    "b) \n",
    "\n",
    "$| A_{2} \\cup A_{3} \\cup A_{5} | = \\{ |A_{2}| + |A_{3}| + |A_{5}| - |A_{2} \\cap A_{3}| - |A_{2} \\cap A_{5}| - |A_{3} \\cap A_{5}| + |A_{2} \\cap A_{3} \\cap A_{5}| = |A_{2}| + |A_{3}| + |A_{5}| - |A_{6}| - |A_{10}| - |A_{15}| + |A_{30}| $\n",
    "\n",
    "and then:\n",
    "\n",
    "$| A_{2} \\cup A_{3} \\cup A_{5} | = 50 + 33 + 20 - 16 - 10 - 6 + 3 = 74$"
   ]
  },
  {
   "cell_type": "markdown",
   "id": "f58d3e02-05f3-487c-bb6f-4a58c9b431ea",
   "metadata": {},
   "source": []
  }
 ],
 "metadata": {
  "kernelspec": {
   "display_name": "Python 3 (ipykernel)",
   "language": "python",
   "name": "python3"
  },
  "language_info": {
   "codemirror_mode": {
    "name": "ipython",
    "version": 3
   },
   "file_extension": ".py",
   "mimetype": "text/x-python",
   "name": "python",
   "nbconvert_exporter": "python",
   "pygments_lexer": "ipython3",
   "version": "3.11.4"
  }
 },
 "nbformat": 4,
 "nbformat_minor": 5
}
