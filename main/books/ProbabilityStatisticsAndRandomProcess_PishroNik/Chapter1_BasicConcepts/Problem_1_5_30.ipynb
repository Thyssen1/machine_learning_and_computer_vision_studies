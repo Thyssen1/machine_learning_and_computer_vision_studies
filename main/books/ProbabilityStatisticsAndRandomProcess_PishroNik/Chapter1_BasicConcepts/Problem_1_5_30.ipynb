{
 "cells": [
  {
   "cell_type": "markdown",
   "id": "c3157f82-b5c9-4f90-bddf-2306ea8bc84a",
   "metadata": {},
   "source": [
    "## Problem 1.5.30"
   ]
  },
  {
   "cell_type": "code",
   "execution_count": 17,
   "id": "ef711510-814f-432b-87d5-a38fd340c4c9",
   "metadata": {},
   "outputs": [
    {
     "name": "stdout",
     "output_type": "stream",
     "text": [
      "Requirement already satisfied: numpy in c:\\users\\chris\\pycharmprojects\\machine_learning_and_computer_vision_studies\\.venv\\lib\\site-packages (2.1.2)\n"
     ]
    },
    {
     "name": "stderr",
     "output_type": "stream",
     "text": [
      "\n",
      "[notice] A new release of pip is available: 23.2.1 -> 24.3.1\n",
      "[notice] To update, run: python.exe -m pip install --upgrade pip\n"
     ]
    },
    {
     "name": "stdout",
     "output_type": "stream",
     "text": [
      "Requirement already satisfied: matplotlib in c:\\users\\chris\\pycharmprojects\\machine_learning_and_computer_vision_studies\\.venv\\lib\\site-packages (3.10.0)\n",
      "Requirement already satisfied: contourpy>=1.0.1 in c:\\users\\chris\\pycharmprojects\\machine_learning_and_computer_vision_studies\\.venv\\lib\\site-packages (from matplotlib) (1.3.1)\n",
      "Requirement already satisfied: cycler>=0.10 in c:\\users\\chris\\pycharmprojects\\machine_learning_and_computer_vision_studies\\.venv\\lib\\site-packages (from matplotlib) (0.12.1)\n",
      "Requirement already satisfied: fonttools>=4.22.0 in c:\\users\\chris\\pycharmprojects\\machine_learning_and_computer_vision_studies\\.venv\\lib\\site-packages (from matplotlib) (4.55.3)\n",
      "Requirement already satisfied: kiwisolver>=1.3.1 in c:\\users\\chris\\pycharmprojects\\machine_learning_and_computer_vision_studies\\.venv\\lib\\site-packages (from matplotlib) (1.4.8)\n",
      "Requirement already satisfied: numpy>=1.23 in c:\\users\\chris\\pycharmprojects\\machine_learning_and_computer_vision_studies\\.venv\\lib\\site-packages (from matplotlib) (2.1.2)\n",
      "Requirement already satisfied: packaging>=20.0 in c:\\users\\chris\\pycharmprojects\\machine_learning_and_computer_vision_studies\\.venv\\lib\\site-packages (from matplotlib) (24.1)\n",
      "Requirement already satisfied: pillow>=8 in c:\\users\\chris\\pycharmprojects\\machine_learning_and_computer_vision_studies\\.venv\\lib\\site-packages (from matplotlib) (11.0.0)\n",
      "Requirement already satisfied: pyparsing>=2.3.1 in c:\\users\\chris\\pycharmprojects\\machine_learning_and_computer_vision_studies\\.venv\\lib\\site-packages (from matplotlib) (3.2.0)\n",
      "Requirement already satisfied: python-dateutil>=2.7 in c:\\users\\chris\\pycharmprojects\\machine_learning_and_computer_vision_studies\\.venv\\lib\\site-packages (from matplotlib) (2.9.0.post0)\n",
      "Requirement already satisfied: six>=1.5 in c:\\users\\chris\\pycharmprojects\\machine_learning_and_computer_vision_studies\\.venv\\lib\\site-packages (from python-dateutil>=2.7->matplotlib) (1.16.0)\n"
     ]
    },
    {
     "name": "stderr",
     "output_type": "stream",
     "text": [
      "\n",
      "[notice] A new release of pip is available: 23.2.1 -> 24.3.1\n",
      "[notice] To update, run: python.exe -m pip install --upgrade pip\n"
     ]
    }
   ],
   "source": [
    "!pip install numpy\n",
    "!pip install matplotlib\n",
    "\n",
    "import numpy as np\n",
    "import matplotlib.pyplot as plt"
   ]
  },
  {
   "cell_type": "markdown",
   "id": "199d6fdf-58fc-47ea-9107-db78443f869d",
   "metadata": {},
   "source": [
    "$S = \\{ (x,y) \\in \\mathbb{R}^{2} : 0 \\leq x \\leq 1, 0 \\leq y \\leq 1 \\}$\n",
    "\n",
    "$A = \\{ (x,y) \\in \\mathbb{R}^{2} : |x - y| \\leq \\frac{1}{2} \\}$\n",
    "\n",
    "$B = \\{ (x,y) \\in \\mathbb{R}^{2} : y \\geq x \\}$"
   ]
  },
  {
   "cell_type": "markdown",
   "id": "3648cb4d-97d9-46d0-b7db-ff2eb6b2d2f2",
   "metadata": {},
   "source": [
    "a)\n",
    "Visualized with Python code below:"
   ]
  },
  {
   "cell_type": "code",
   "execution_count": 18,
   "id": "855b4575-aaa3-46b3-bbc9-3854c8d16925",
   "metadata": {},
   "outputs": [
    {
     "data": {
      "image/png": "[encoded data removed]",
      "text/plain": [
       "<Figure size 800x600 with 2 Axes>"
      ]
     },
     "metadata": {},
     "output_type": "display_data"
    }
   ],
   "source": [
    "# Define the ranges for x and y\n",
    "x = np.linspace(0, 1, 400)\n",
    "y = np.linspace(0, 1, 400)\n",
    "X, Y = np.meshgrid(x, y)\n",
    "\n",
    "# Define the inequality |x - y| <= 1/2\n",
    "Z = np.abs(X - Y) <= 0.5\n",
    "\n",
    "# Plot the inequality region within the specified interval\n",
    "plt.figure(figsize=(8, 6))\n",
    "plt.contourf(X, Y, Z, levels=1, alpha=0.7)\n",
    "plt.title(r'Region satisfying $|x - y| \\leq \\frac{1}{2}$ in $[0,1] \\times [0,1]$')\n",
    "plt.xlabel('x')\n",
    "plt.ylabel('y')\n",
    "plt.colorbar(label='Satisfies Inequality')\n",
    "plt.show()\n",
    "\n"
   ]
  },
  {
   "cell_type": "markdown",
   "id": "b328730e-0ba4-47a5-86b7-1f02cdb00800",
   "metadata": {},
   "source": [
    "b)\n",
    "$P(A) = 1 - 2 \\frac{1}{2} \\frac{1}{2} \\frac{1}{2} = 1 - \\frac{1}{4} = \\frac{3}{4}$\n",
    "\n",
    "$P(B) = \\frac{1}{2}$"
   ]
  },
  {
   "cell_type": "markdown",
   "id": "2df0e879-49be-43c4-ad88-7dc5d1555925",
   "metadata": {},
   "source": [
    "c) \n",
    "\n",
    "$P(A \\cap B) = \\frac{1}{2} - \\frac{1}{2} \\cdot \\frac{1}{2} \\cdot \\frac{1}{2} = \\frac{3}{8} $ \n",
    "\n",
    "$P(A) P(B) = \\frac{3}{4} \\frac{1}{2} = \\frac{3}{8}$\n",
    "\n",
    "Since $P(A \\cap B) = P(A) P(B)$ is we can conclude that they are independent."
   ]
  },
  {
   "cell_type": "code",
   "execution_count": null,
   "id": "62341d7a-5b5a-4c5e-be74-724a32fdc18f",
   "metadata": {},
   "outputs": [],
   "source": []
  }
 ],
 "metadata": {
  "kernelspec": {
   "display_name": "Python 3 (ipykernel)",
   "language": "python",
   "name": "python3"
  },
  "language_info": {
   "codemirror_mode": {
    "name": "ipython",
    "version": 3
   },
   "file_extension": ".py",
   "mimetype": "text/x-python",
   "name": "python",
   "nbconvert_exporter": "python",
   "pygments_lexer": "ipython3",
   "version": "3.11.4"
  }
 },
 "nbformat": 4,
 "nbformat_minor": 5
}
