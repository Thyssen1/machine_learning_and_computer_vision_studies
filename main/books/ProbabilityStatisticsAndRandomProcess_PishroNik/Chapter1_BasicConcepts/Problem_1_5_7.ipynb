{
 "cells": [
  {
   "cell_type": "markdown",
   "id": "c7fcb2ae-34c6-4137-924e-34ada93c9937",
   "metadata": {},
   "source": [
    "## Problem 1.5.7"
   ]
  },
  {
   "cell_type": "markdown",
   "id": "a557a56c-6a0a-49fc-aa04-fc2f2285a36a",
   "metadata": {},
   "source": [
    "a) A is a finite set and thus countable by definition 1.1"
   ]
  },
  {
   "cell_type": "markdown",
   "id": "870f4391-4158-4a21-9e08-902a28417a18",
   "metadata": {},
   "source": [
    "b) $B = \\{ a + b \\sqrt{2} \\}$ where $a, b \\in \\mathbb{Q}$.\n",
    "The elements of $B$ can be written as $b_{ij} = a_{i} + b_{j} \\sqrt{2}$ where $a_{i}, b_{j} \\in \\mathbb{Q}$ and therefore, $B$ can be written as: $\\cup_{i} \\cup_{j} \\{ b_{ij} \\}$ which is the on page 15. And by definition any set on this form is countable, therefore $B$ is countable."
   ]
  },
  {
   "cell_type": "markdown",
   "id": "ae6cc701-2d0b-4932-a249-8c867456aecf",
   "metadata": {},
   "source": [
    "c) Since $x \\in [0, 1]$ and $y \\in [0,1]$ are intervals on the real line are uncountable, the cartesian product of the two sets is also uncountable."
   ]
  },
  {
   "cell_type": "code",
   "execution_count": null,
   "id": "955cbc00-26d8-412a-8251-d15fe85ef104",
   "metadata": {},
   "outputs": [],
   "source": []
  }
 ],
 "metadata": {
  "kernelspec": {
   "display_name": "Python 3 (ipykernel)",
   "language": "python",
   "name": "python3"
  },
  "language_info": {
   "codemirror_mode": {
    "name": "ipython",
    "version": 3
   },
   "file_extension": ".py",
   "mimetype": "text/x-python",
   "name": "python",
   "nbconvert_exporter": "python",
   "pygments_lexer": "ipython3",
   "version": "3.11.4"
  }
 },
 "nbformat": 4,
 "nbformat_minor": 5
}
