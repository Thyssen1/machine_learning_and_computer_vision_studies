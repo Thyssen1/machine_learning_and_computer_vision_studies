{
 "cells": [
  {
   "cell_type": "markdown",
   "id": "3bf27214-9c37-48a5-b720-5a7b787a214d",
   "metadata": {},
   "source": [
    "## Problem 1.5.13"
   ]
  },
  {
   "cell_type": "markdown",
   "id": "f1c70b36-10dc-47fe-8c2e-46c5a4dd72e1",
   "metadata": {},
   "source": [
    "a) By axioms of probability we know that $P(S) = 1$ and since $S = \\{a, b, d}\\$ consists of three disjoint events we have:\n",
    "\n",
    "$P(S) = P(a) + P(b) + P(d) = 1 \\implies P(b) = 0.25$"
   ]
  },
  {
   "cell_type": "markdown",
   "id": "68a334bf-d020-451d-8524-966e88ff0a8f",
   "metadata": {},
   "source": [
    "b) The probability that b wins or a draw occurs is:\n",
    "\n",
    "$P(b \\cup d) = P(b) + P(d) - P(b \\cap d) = P(b) + P(d) = 0.25 + 0.25 = 0.5$"
   ]
  }
 ],
 "metadata": {
  "kernelspec": {
   "display_name": "Python 3 (ipykernel)",
   "language": "python",
   "name": "python3"
  },
  "language_info": {
   "codemirror_mode": {
    "name": "ipython",
    "version": 3
   },
   "file_extension": ".py",
   "mimetype": "text/x-python",
   "name": "python",
   "nbconvert_exporter": "python",
   "pygments_lexer": "ipython3",
   "version": "3.11.4"
  }
 },
 "nbformat": 4,
 "nbformat_minor": 5
}
