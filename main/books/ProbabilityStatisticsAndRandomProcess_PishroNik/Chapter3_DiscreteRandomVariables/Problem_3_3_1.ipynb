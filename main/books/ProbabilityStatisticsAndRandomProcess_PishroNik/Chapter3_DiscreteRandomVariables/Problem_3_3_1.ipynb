{
 "cells": [
  {
   "cell_type": "markdown",
   "id": "836dc066-ead2-4dba-b9a6-a91408b0cf11",
   "metadata": {},
   "source": [
    "## Problem 3.3.1"
   ]
  },
  {
   "cell_type": "markdown",
   "id": "c2ef20ba-e84d-4b63-ac20-95e5d056775a",
   "metadata": {},
   "source": [
    "a) $R_{X} = \\{ 0, 1, 2 \\}$"
   ]
  },
  {
   "cell_type": "markdown",
   "id": "996eb3e3-1aa5-44cb-991e-b2e4192cfcb1",
   "metadata": {},
   "source": [
    "b) $P(X \\geq 1.5) = P(X=2) = \\frac{1}{6}$"
   ]
  },
  {
   "cell_type": "markdown",
   "id": "dd1154fa-0a9e-45a6-a9dc-45bd5e145465",
   "metadata": {},
   "source": [
    "c) $P(0 < X < 2) = P(X=1) = \\frac{1}{3}$"
   ]
  },
  {
   "cell_type": "markdown",
   "id": "61e10616-e63f-44d7-9461-828bfe48bdf2",
   "metadata": {},
   "source": [
    "d) $P(X=0 | X < 2) = \\frac{P(X=0, X < 2)}{P(X<2)} = \\frac{P(X=0)}{1-P(X=2)} = \\frac{\\frac{1}{2}}{1 - \\frac{1}{6}} = \\frac{3}{5}$"
   ]
  },
  {
   "cell_type": "code",
   "execution_count": null,
   "id": "f96ed39e-4ce1-48de-af84-0512eafa631e",
   "metadata": {},
   "outputs": [],
   "source": []
  }
 ],
 "metadata": {
  "kernelspec": {
   "display_name": "Python 3 (ipykernel)",
   "language": "python",
   "name": "python3"
  },
  "language_info": {
   "codemirror_mode": {
    "name": "ipython",
    "version": 3
   },
   "file_extension": ".py",
   "mimetype": "text/x-python",
   "name": "python",
   "nbconvert_exporter": "python",
   "pygments_lexer": "ipython3",
   "version": "3.12.7"
  }
 },
 "nbformat": 4,
 "nbformat_minor": 5
}
