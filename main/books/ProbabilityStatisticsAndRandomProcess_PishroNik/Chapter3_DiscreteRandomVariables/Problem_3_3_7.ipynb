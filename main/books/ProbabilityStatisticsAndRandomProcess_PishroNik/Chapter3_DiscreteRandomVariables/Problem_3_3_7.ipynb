{
 "cells": [
  {
   "cell_type": "markdown",
   "id": "0cb34654-351f-446b-9b6d-d2291cd4f197",
   "metadata": {},
   "source": [
    "## Problem 3.3.7"
   ]
  },
  {
   "cell_type": "markdown",
   "id": "b4e533aa-60d2-4a85-8f0b-a89f958984f3",
   "metadata": {},
   "source": [
    "a) $X \\sim \\text{Geometric} (\\frac{1}{5})$ where $P_{X} (k) = p (1-p)^{k-1}$\n",
    "\n",
    "$P(X > 5) = 1 - P(X \\leq 5) = 1 - \\frac{1}{5} \\sum_{k=1}^{5} (\\frac{4}{5})^{k-1}$\n",
    "\n",
    "$P(2 < X \\leq 6) = \\sum_{k=3}^{6} P(X=k) = \\frac{1}{5} \\sum_{k=3}^{6} (\\frac{4}{5})^{k-1}$\n",
    "\n",
    "$P(X > 5 | X < 8) = \\frac{P(X > 5, X < 8)}{P(X < 8)} = \\frac{P(6 \\leq X \\leq 7)}{P(X \\leq 7)} = \\frac{\\sum_{k=6}^{7} (\\frac{4}{5})^{k-1}}{ \\sum_{k=1}^{7} (\\frac{4}{5})^{k-1} }$"
   ]
  },
  {
   "cell_type": "markdown",
   "id": "2e62887e-410b-4206-84ef-0163ea317e3d",
   "metadata": {},
   "source": [
    "b) $X \\sim \\text{Binomial} (10, \\frac{1}{3})$ where $P_{X} (k) = {10 \\choose k} (\\frac{1}{3})^{k} (\\frac{2}{3})^{10-k}$\n",
    "\n",
    "$P(X > 5) = 1 - P(X \\leq 5) = 1 - \\sum_{k=0}^{5} {10 \\choose k} (\\frac{1}{3})^{k} (\\frac{2}{3})^{10-k}$\n",
    "\n",
    "$P(2 < X \\leq 6) = \\sum_{k=3}^{6} {10 \\choose k} (\\frac{1}{3})^{k} (\\frac{2}{3})^{10-k}$\n",
    "\n",
    "$P(X > 5 | X < 8) = \\frac{P(X > 5, X < 8)}{P(X < 8)} = \\frac{\\sum_{k=6}^{7} {10 \\choose k} (\\frac{1}{3})^{k} (\\frac{2}{3})^{10-k}}{1 - \\sum_{k=8}^{10} {10 \\choose k} (\\frac{1}{3})^{k} (\\frac{2}{3})^{10-k}}$"
   ]
  },
  {
   "cell_type": "markdown",
   "id": "c3088673-4332-4448-a6a9-dac872e054a2",
   "metadata": {},
   "source": [
    "c) $X \\sim \\text{Pascal} (3, \\frac{1}{2})$ with $m=3, p = \\frac{1}{2}$ where $P_{X} (k) = {k-1 \\choose 2} (\\frac{1}{2})^{k} (\\frac{1}{2})^{k-3} = {k-1 \\choose 2} (\\frac{1}{2})^{k}$ for $k \\in \\{3, 4, 5, ... \\}$.\n",
    "\n",
    "$P(X > 5) = 1 - P(X \\leq 5) = 1 - P(X=3) - P(X=4) + P(X=5) = 1 - (\\frac{1}{2})^{3} - 3 (\\frac{1}{2})^{4} - 6 (\\frac{1}{2})^{5} = \\frac{32 - 4 -6 - 6}{32} = \\frac{1}{2}$\n",
    "\n",
    "$P(2 < X \\leq 6) = \\sum_{k=3}^{6} P_{X} (k) = \\sum_{k=3}^{6} {k-1 \\choose 2} (\\frac{1}{2})^{k} = \\frac{21}{32}$\n",
    "\n",
    "$P(X > 5 | X < 8) = \\frac{\\sum_{k=3}^{8} P_{X} (k)}{\\sum_{k=3}^{8} P_{X} (k)} = \\frac{35}{99}$"
   ]
  },
  {
   "cell_type": "markdown",
   "id": "b09a0bcd-0ad9-47a8-a61a-2ae22067da36",
   "metadata": {},
   "source": [
    "d) "
   ]
  },
  {
   "cell_type": "markdown",
   "id": "f7726e2a-f073-4fce-95de-04766efae598",
   "metadata": {},
   "source": []
  }
 ],
 "metadata": {
  "kernelspec": {
   "display_name": "Python 3 (ipykernel)",
   "language": "python",
   "name": "python3"
  },
  "language_info": {
   "codemirror_mode": {
    "name": "ipython",
    "version": 3
   },
   "file_extension": ".py",
   "mimetype": "text/x-python",
   "name": "python",
   "nbconvert_exporter": "python",
   "pygments_lexer": "ipython3",
   "version": "3.12.7"
  }
 },
 "nbformat": 4,
 "nbformat_minor": 5
}
