{
 "cells": [
  {
   "cell_type": "markdown",
   "id": "88911f3a-1267-4c04-9d6f-cb6aaaabd62c",
   "metadata": {},
   "source": [
    "## Problem 3.3.4"
   ]
  },
  {
   "cell_type": "markdown",
   "id": "d19cf063-befd-4483-a603-5f7693ac9678",
   "metadata": {},
   "source": [
    "a) $P(X \\leq 2, Y \\leq 2) = P(X \\leq 2) P(Y \\leq 2) = (\\frac{1}{4} + \\frac{1}{8}) (\\frac{1}{6} + \\frac{1}{6}) = \n",
    "\\frac{1}{12}$"
   ]
  },
  {
   "cell_type": "markdown",
   "id": "116ed6a3-e341-49de-8482-b73881d6cd76",
   "metadata": {},
   "source": [
    "b) $P(X > 2 \\cup Y > 2) = P(X > 2) + P(Y > 2) - P(X > 2) P(Y > 2) = (1 - P(X=1)) + (1-P(Y=1)) + ((1-P(X=1)) (1 - P(Y=1)) = \\frac{17}{24}$"
   ]
  },
  {
   "cell_type": "markdown",
   "id": "9be3fefb-6f08-46ac-9a31-e4fccbbdad62",
   "metadata": {},
   "source": [
    "c) $P(X > 2 | Y > 2) = \\frac{P(X > 2, Y > 2)}{P(Y > 2)} = \\frac{(1 - P(X=1)) + (1-P(Y=1))}{1-P(Y=1)} = \\frac{3}{4}$"
   ]
  },
  {
   "cell_type": "markdown",
   "id": "036e0137-cf6f-4658-ba49-99cae3300f1a",
   "metadata": {},
   "source": [
    "d) $P(X < Y) = P(X=1) P(Y=2) + [P(X=1) + P(X=2)] P(Y=3) + [P(X=1) + P(X=2) + P(X=3)] P(Y=4) = \\frac{1}{24} + \\frac{3}{24} + \\frac{4}{24} = \\frac{1}{3}$"
   ]
  },
  {
   "cell_type": "code",
   "execution_count": null,
   "id": "1fd3aba4-c785-4c9f-9f5d-d9809bcacd86",
   "metadata": {},
   "outputs": [],
   "source": []
  }
 ],
 "metadata": {
  "kernelspec": {
   "display_name": "Python 3 (ipykernel)",
   "language": "python",
   "name": "python3"
  },
  "language_info": {
   "codemirror_mode": {
    "name": "ipython",
    "version": 3
   },
   "file_extension": ".py",
   "mimetype": "text/x-python",
   "name": "python",
   "nbconvert_exporter": "python",
   "pygments_lexer": "ipython3",
   "version": "3.12.7"
  }
 },
 "nbformat": 4,
 "nbformat_minor": 5
}
