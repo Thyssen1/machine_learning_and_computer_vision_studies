{
 "cells": [
  {
   "cell_type": "markdown",
   "id": "4eb1bc42-d730-4619-b18c-d1eda1299e99",
   "metadata": {},
   "source": [
    "## Problem 3.3.9"
   ]
  },
  {
   "cell_type": "markdown",
   "id": "b0fc072d-4b15-4ffc-85c7-006aa1c76d2a",
   "metadata": {},
   "source": [
    "$X \\sim \\text{Geometric} (p)$. We want to show that the geometric distribution is memoryless which means that:\n",
    "\n",
    "$P(X > m + \\ell | X > m) = P(X > \\ell)$"
   ]
  },
  {
   "cell_type": "markdown",
   "id": "13ff4a82-c68c-4b66-ba84-633e3f9f9c2e",
   "metadata": {},
   "source": [
    "First,\n",
    "\n",
    "$P(X > m) = \\sum_{k=m+1}^{\\infty} (1-p)^{k-1} p = \\frac{p}{1-p} \\sum_{k=0}^{\\infty} (1-p)^{k+m+1} = p (1-p)^{m} \\sum_{k=0}^{\\infty} (1-p)^{k} = p (1-p)^{m} \\frac{1}{1 - (1-p)} = (1-p)^{m}$\n",
    "\n",
    "where we  have used the formula for the geometric sum."
   ]
  },
  {
   "cell_type": "markdown",
   "id": "05147cdf-2c34-4e26-a076-e6eb6ac8b8a7",
   "metadata": {},
   "source": [
    "Secondly,\n",
    "\n",
    "$P(X > m + \\ell) = \\sum_{k=m+\\ell+1}^{\\infty} (1-p)^{k-1} p = \\frac{p}{1-p} \\sum_{k=0}^{\\infty} (1-p)^{k+m+\\ell} = p (1-p)^{m+\\ell} \\sum_{k=0}^{\\infty} (1-p)^{k} = p (1-p)^{m+\\ell} \\frac{1}{1 - (1-p)} = (1-p)^{m+\\ell}$"
   ]
  },
  {
   "cell_type": "markdown",
   "id": "2f5296d1-27a1-4a0f-bec1-f73df96da959",
   "metadata": {},
   "source": [
    "$P(X > m + \\ell | X > m) = \\frac{P(X > m + \\ell )}{P(X > m)} = \\frac{(1-p)^{m+\\ell}}{(1-p)^{m}} = (1-p)^{\\ell} = P(X > \\ell)$\n",
    "\n",
    "which proves that the geometric distribution is indeed memoryless."
   ]
  },
  {
   "cell_type": "code",
   "execution_count": null,
   "id": "8bb0ed33-1a96-4711-9a0f-a830f77f2221",
   "metadata": {},
   "outputs": [],
   "source": []
  }
 ],
 "metadata": {
  "kernelspec": {
   "display_name": "Python 3 (ipykernel)",
   "language": "python",
   "name": "python3"
  },
  "language_info": {
   "codemirror_mode": {
    "name": "ipython",
    "version": 3
   },
   "file_extension": ".py",
   "mimetype": "text/x-python",
   "name": "python",
   "nbconvert_exporter": "python",
   "pygments_lexer": "ipython3",
   "version": "3.12.7"
  }
 },
 "nbformat": 4,
 "nbformat_minor": 5
}
