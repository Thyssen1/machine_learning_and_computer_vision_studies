{
 "cells": [
  {
   "cell_type": "markdown",
   "id": "a81ddfdb-3c9d-4c69-bc88-cacb8bd4d14d",
   "metadata": {},
   "source": [
    "## Problem 3.3.2"
   ]
  },
  {
   "cell_type": "markdown",
   "id": "678ea843-8f1d-4738-8408-7397a3c500e1",
   "metadata": {},
   "source": [
    "$R_{X} = \\{ 0, 1, 2, 3 \\}$"
   ]
  },
  {
   "cell_type": "markdown",
   "id": "cd9b03bc-9a5b-42b8-9821-b86fa2809fbb",
   "metadata": {},
   "source": [
    "Let $p = P(X=2) = P(X=1)$ and $\\frac{1}{2} p = P(X=0) = P(X=3)$.\n",
    "\n",
    "Then:\n",
    "\n",
    "$2p + p = 1$ leads to $p = \\frac{1}{3}$"
   ]
  },
  {
   "cell_type": "markdown",
   "id": "42c1ee69-6289-4539-8278-19567fd1e29f",
   "metadata": {},
   "source": [
    "Thus:\n",
    "\n",
    "$P(X=0) = \\frac{1}{6}$, \n",
    "\n",
    "$P(X=1) = \\frac{1}{3}$, \n",
    "\n",
    "$P(X=2) = \\frac{1}{3}$, \n",
    "\n",
    "$P(X=3) = \\frac{1}{6}$"
   ]
  },
  {
   "cell_type": "code",
   "execution_count": null,
   "id": "41518551-0c77-485d-b9b6-e360a878e2aa",
   "metadata": {},
   "outputs": [],
   "source": []
  }
 ],
 "metadata": {
  "kernelspec": {
   "display_name": "Python 3 (ipykernel)",
   "language": "python",
   "name": "python3"
  },
  "language_info": {
   "codemirror_mode": {
    "name": "ipython",
    "version": 3
   },
   "file_extension": ".py",
   "mimetype": "text/x-python",
   "name": "python",
   "nbconvert_exporter": "python",
   "pygments_lexer": "ipython3",
   "version": "3.12.7"
  }
 },
 "nbformat": 4,
 "nbformat_minor": 5
}
