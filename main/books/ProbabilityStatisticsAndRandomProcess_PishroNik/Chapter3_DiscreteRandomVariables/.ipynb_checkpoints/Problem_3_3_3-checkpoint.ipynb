{
 "cells": [
  {
   "cell_type": "markdown",
   "id": "9a37e72c-9764-4542-becb-039fe4207384",
   "metadata": {},
   "source": [
    "## Problem 3.3.3"
   ]
  },
  {
   "cell_type": "markdown",
   "id": "e9872f23-f9bf-4e46-a423-24fabcc847bb",
   "metadata": {},
   "source": [
    "The ranges of $X$ and $Y$ are $R_{X} = R_{Y} = \\{ 1, 2, 3, 4, 5, 6 \\}$.\n",
    "\n",
    "Then since $Z = X - Y$ the range of $Z$ is $R_{Z} = \\{ -5, -4, -3, -2, -1, 0, 1, 2, 3, 4, 5 \\}$."
   ]
  },
  {
   "cell_type": "markdown",
   "id": "de3e158c-1371-48db-ab62-207d76bc656e",
   "metadata": {},
   "source": [
    "We find that:\n",
    "\n",
    "$P(Z=5) = P(Z=-5) = \\frac{1}{36}$\n",
    "\n",
    "$P(Z=4) = P(Z=-4) = \\frac{2}{36}$\n",
    "\n",
    "$P(Z=3) = P(Z=-3) = \\frac{3}{36}$\n",
    "\n",
    "$P(Z=2) = P(Z=-2) = \\frac{4}{36}$\n",
    "\n",
    "$P(Z=1) = P(Z=-1) = \\frac{5}{36}$\n",
    "\n",
    "$P(Z=0) = \\frac{6}{36}$"
   ]
  },
  {
   "cell_type": "markdown",
   "id": "86d66965-8216-49d1-a27f-ff5730524d98",
   "metadata": {},
   "source": [
    "A sanity check:\n",
    "$\\sum_{z \\in R_{Z}} P(Z = z) = \n",
    "2 \\frac{1}{36} + 2 \\frac{2}{36} + 2 \\frac{3}{36} + 2 \\frac{4}{36} + 2 \\frac{5}{36} + \\frac{6}{36} = \n",
    "\\frac{2 + 4 + 6 + 8 + 10 + 6}{36} = \\frac{36}{36} = 1$"
   ]
  },
  {
   "cell_type": "markdown",
   "id": "b470653c-3575-4a8b-b00b-c5dc3d7a750d",
   "metadata": {},
   "source": []
  }
 ],
 "metadata": {
  "kernelspec": {
   "display_name": "",
   "name": ""
  },
  "language_info": {
   "name": ""
  }
 },
 "nbformat": 4,
 "nbformat_minor": 5
}
