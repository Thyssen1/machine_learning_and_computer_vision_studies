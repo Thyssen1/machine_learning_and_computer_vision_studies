{
 "cells": [
  {
   "cell_type": "markdown",
   "id": "cb46988b-ca9b-4968-8285-0148dbf5bf53",
   "metadata": {},
   "source": [
    "## Problem 3.3.5"
   ]
  },
  {
   "cell_type": "markdown",
   "id": "187f3161-3d91-40cc-8686-4c639bc5f279",
   "metadata": {},
   "source": [
    "Let $Z = X_{1} + ... + X_{50}$ be the sum of the random variables $X_{i}$ which records whether or not the i'th student has a car or not, respectively."
   ]
  },
  {
   "cell_type": "markdown",
   "id": "506cadc8-73fc-4efb-9be5-bedb95a2ed8a",
   "metadata": {},
   "source": [
    "We would like to find $P(Z > 30)$, the probability that there will not be enough parking spaces for all the cars.\n",
    "$Z$ follows a binomial distribution which yields:\n",
    "\n",
    "$P(Z > 30) = \\sum_{k=31}^{50} {50 \\choose k} p^{k} (1-p)^{50-k} = \\sum_{k=31}^{50} {50 \\choose k} \\frac{1}{2}^{k} \\frac{1}{2}^{50-k} = \\sum_{k=31}^{50} {50 \\choose k} \\frac{1}{2}^{50} $"
   ]
  },
  {
   "cell_type": "markdown",
   "id": "bbb39ac0-a6a0-4e98-ae2d-384c18f6bbd6",
   "metadata": {},
   "source": []
  }
 ],
 "metadata": {
  "kernelspec": {
   "display_name": "Python 3 (ipykernel)",
   "language": "python",
   "name": "python3"
  },
  "language_info": {
   "codemirror_mode": {
    "name": "ipython",
    "version": 3
   },
   "file_extension": ".py",
   "mimetype": "text/x-python",
   "name": "python",
   "nbconvert_exporter": "python",
   "pygments_lexer": "ipython3",
   "version": "3.12.7"
  }
 },
 "nbformat": 4,
 "nbformat_minor": 5
}
